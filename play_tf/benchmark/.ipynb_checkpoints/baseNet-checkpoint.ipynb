{
 "cells": [
  {
   "cell_type": "code",
   "execution_count": 1,
   "metadata": {},
   "outputs": [
    {
     "data": {
      "text/plain": [
       "\"\\nbenchmark test for algorithms' efficiency\\n\""
      ]
     },
     "execution_count": 1,
     "metadata": {},
     "output_type": "execute_result"
    }
   ],
   "source": [
    "'''\n",
    "benchmark test for algorithms' efficiency\n",
    "'''\n",
    "# fixed random state\n",
    "# 95% accuracy\n",
    "# test accuracy increase\n",
    "# test training time\n",
    "# no learning rate tweaking"
   ]
  },
  {
   "cell_type": "code",
   "execution_count": 2,
   "metadata": {
    "collapsed": true
   },
   "outputs": [],
   "source": [
    "# import\n",
    "import tensorflow as tf\n",
    "import numpy as np\n",
    "import matplotlib.pyplot as plt\n",
    "from sklearn.datasets import fetch_mldata\n",
    "from sklearn.model_selection import train_test_split\n",
    "from tensorflow.contrib.layers import fully_connected\n",
    "from tensorflow.contrib.layers import dropout\n",
    "from datetime import datetime\n",
    "from time import time"
   ]
  },
  {
   "cell_type": "code",
   "execution_count": 3,
   "metadata": {
    "collapsed": true
   },
   "outputs": [],
   "source": [
    "# global variables that doesn't need to be updated every run\n",
    "np_seed = 0\n",
    "tf_seed = 0"
   ]
  },
  {
   "cell_type": "code",
   "execution_count": 4,
   "metadata": {
    "collapsed": true
   },
   "outputs": [],
   "source": [
    "# variables that need to be changed\n",
    "method = \"base\""
   ]
  },
  {
   "cell_type": "code",
   "execution_count": 5,
   "metadata": {},
   "outputs": [
    {
     "name": "stderr",
     "output_type": "stream",
     "text": [
      "C:\\Anaconda3\\lib\\site-packages\\sklearn\\model_selection\\_split.py:2026: FutureWarning: From version 0.21, test_size will always complement train_size unless both are specified.\n",
      "  FutureWarning)\n"
     ]
    },
    {
     "name": "stdout",
     "output_type": "stream",
     "text": [
      "(60000, 784) (10000, 784) (60000,) (10000,)\n",
      "-0.28257035236\n"
     ]
    },
    {
     "data": {
      "image/png": "[encoded data removed]",
      "text/plain": [
       "<matplotlib.figure.Figure at 0x275a254bd68>"
      ]
     },
     "metadata": {},
     "output_type": "display_data"
    }
   ],
   "source": [
    "# prepare data\n",
    "np.random.seed(np_seed)\n",
    "mnist = fetch_mldata(\"MNIST original\")\n",
    "train_size = 60000\n",
    "X_train, X_test, y_train, y_test = train_test_split(mnist.data/256-0.5, mnist.target.astype(int), train_size=train_size,shuffle=True)\n",
    "m,n = X_train.shape\n",
    "print(X_train.shape, X_test.shape, y_train.shape, y_test.shape)\n",
    "\n",
    "# make sure things go well\n",
    "print(np.mean(X_train[40]))\n",
    "plt.matshow(X_train[40].reshape([28,28]))\n",
    "plt.colorbar()\n",
    "plt.show()"
   ]
  },
  {
   "cell_type": "code",
   "execution_count": 6,
   "metadata": {
    "collapsed": true
   },
   "outputs": [],
   "source": [
    "def fetch_batch(X,y,batch_size):\n",
    "    random_indice = np.random.permutation(X.shape[0])[:batch_size]\n",
    "    return [X[random_indice], y[random_indice]]"
   ]
  },
  {
   "cell_type": "code",
   "execution_count": 8,
   "metadata": {},
   "outputs": [
    {
     "name": "stdout",
     "output_type": "stream",
     "text": [
      "Epoch: 0\n",
      "test loss : 0.6921 test accuracy : 0.8125\n",
      "train loss: 0.7002 train accuracy: 0.8075\n",
      "elapsed time: 3 lr: 1.0e-01\n",
      "Time to log: 0.6106290817260742\n",
      "Epoch: 10\n",
      "test loss : 0.2432 test accuracy : 0.9302\n",
      "train loss: 0.2254 train accuracy: 0.9339\n",
      "elapsed time: 23 lr: 1.0e-01\n",
      "Time to log: 0.6556308269500732\n",
      "Epoch: 20\n",
      "test loss : 0.1917 test accuracy : 0.9438\n",
      "train loss: 0.1675 train accuracy: 0.9505\n",
      "elapsed time: 45 lr: 1.0e-01\n",
      "Time to log: 0.6958498954772949\n",
      "Epoch: 30\n",
      "test loss : 0.1632 test accuracy : 0.9543\n",
      "train loss: 0.1345 train accuracy: 0.9607\n",
      "elapsed time: 67 lr: 1.0e-01\n",
      "Time to log: 0.8171780109405518\n",
      "Epoch: 40\n",
      "test loss : 0.1443 test accuracy : 0.9566\n",
      "train loss: 0.1123 train accuracy: 0.9664\n",
      "elapsed time: 88 lr: 1.0e-01\n",
      "Time to log: 0.567225456237793\n",
      "Epoch: 50\n",
      "test loss : 0.1340 test accuracy : 0.9610\n",
      "train loss: 0.0972 train accuracy: 0.9703\n",
      "elapsed time: 109 lr: 1.0e-01\n",
      "Time to log: 0.6691560745239258\n",
      "Epoch: 60\n",
      "test loss : 0.1246 test accuracy : 0.9647\n",
      "train loss: 0.0823 train accuracy: 0.9760\n",
      "elapsed time: 130 lr: 1.0e-01\n",
      "Time to log: 0.5619659423828125\n",
      "Epoch: 70\n",
      "test loss : 0.1184 test accuracy : 0.9644\n",
      "train loss: 0.0737 train accuracy: 0.9783\n",
      "elapsed time: 151 lr: 1.0e-01\n",
      "Time to log: 0.5577366352081299\n",
      "Epoch: 80\n",
      "test loss : 0.1228 test accuracy : 0.9646\n",
      "train loss: 0.0767 train accuracy: 0.9771\n",
      "elapsed time: 170 lr: 1.0e-01\n",
      "Time to log: 0.5636062622070312\n",
      "Epoch: 90\n",
      "test loss : 0.1131 test accuracy : 0.9664\n",
      "train loss: 0.0624 train accuracy: 0.9813\n",
      "elapsed time: 190 lr: 1.0e-01\n",
      "Time to log: 0.5986323356628418\n",
      "Epoch: 100\n",
      "test loss : 0.1085 test accuracy : 0.9691\n",
      "train loss: 0.0554 train accuracy: 0.9838\n",
      "elapsed time: 211 lr: 1.0e-01\n",
      "Time to log: 0.6418859958648682\n",
      "Epoch: 110\n",
      "test loss : 0.1162 test accuracy : 0.9680\n",
      "train loss: 0.0538 train accuracy: 0.9835\n",
      "elapsed time: 232 lr: 1.0e-01\n",
      "Time to log: 0.654242992401123\n",
      "Epoch: 120\n",
      "test loss : 0.1060 test accuracy : 0.9695\n",
      "train loss: 0.0422 train accuracy: 0.9882\n",
      "elapsed time: 253 lr: 1.0e-01\n",
      "Time to log: 0.6289119720458984\n",
      "Epoch: 130\n",
      "test loss : 0.1120 test accuracy : 0.9694\n",
      "train loss: 0.0427 train accuracy: 0.9876\n",
      "elapsed time: 274 lr: 1.0e-01\n",
      "Time to log: 0.5815720558166504\n",
      "Epoch: 140\n",
      "test loss : 0.1058 test accuracy : 0.9701\n",
      "train loss: 0.0349 train accuracy: 0.9905\n",
      "elapsed time: 296 lr: 1.0e-01\n",
      "Time to log: 0.6788063049316406\n",
      "Epoch: 150\n",
      "test loss : 0.1060 test accuracy : 0.9716\n",
      "train loss: 0.0307 train accuracy: 0.9919\n",
      "elapsed time: 318 lr: 1.0e-01\n",
      "Time to log: 0.6572568416595459\n",
      "Epoch: 160\n",
      "test loss : 0.1089 test accuracy : 0.9704\n",
      "train loss: 0.0304 train accuracy: 0.9917\n",
      "elapsed time: 339 lr: 1.0e-01\n",
      "Time to log: 0.5845701694488525\n",
      "Epoch: 170\n",
      "test loss : 0.1064 test accuracy : 0.9720\n",
      "train loss: 0.0251 train accuracy: 0.9938\n",
      "elapsed time: 359 lr: 1.0e-01\n",
      "Time to log: 0.6236672401428223\n",
      "Epoch: 180\n",
      "test loss : 0.1082 test accuracy : 0.9704\n",
      "train loss: 0.0232 train accuracy: 0.9944\n",
      "elapsed time: 380 lr: 1.0e-01\n",
      "Time to log: 0.5714859962463379\n",
      "Epoch: 190\n",
      "test loss : 0.1099 test accuracy : 0.9718\n",
      "train loss: 0.0213 train accuracy: 0.9951\n",
      "elapsed time: 401 lr: 1.0e-01\n",
      "Time to log: 0.5950977802276611\n",
      "Epoch: 200\n",
      "test loss : 0.1083 test accuracy : 0.9721\n",
      "train loss: 0.0185 train accuracy: 0.9963\n",
      "elapsed time: 421 lr: 1.0e-01\n",
      "Time to log: 0.5620112419128418\n",
      "Epoch: 210\n",
      "test loss : 0.1118 test accuracy : 0.9701\n",
      "train loss: 0.0178 train accuracy: 0.9963\n",
      "elapsed time: 444 lr: 1.0e-01\n",
      "Time to log: 0.6823136806488037\n",
      "Epoch: 220\n",
      "test loss : 0.1414 test accuracy : 0.9600\n",
      "train loss: 0.0884 train accuracy: 0.9723\n",
      "elapsed time: 466 lr: 1.0e-01\n",
      "Time to log: 0.5915737152099609\n",
      "Epoch: 230\n",
      "test loss : 0.1236 test accuracy : 0.9654\n",
      "train loss: 0.0665 train accuracy: 0.9797\n",
      "elapsed time: 488 lr: 1.0e-01\n",
      "Time to log: 0.6953659057617188\n",
      "Test accuracy : 0.9648\n",
      "Train accuracy: 0.980616666667\n"
     ]
    }
   ],
   "source": [
    "# construction phase\n",
    "now = datetime.utcnow().strftime(\"%Y%m%d%H%M%S\")\n",
    "root_logdir = \"logs\"\n",
    "logdir = \"{}/base-{}\".format(root_logdir, now)\n",
    "root_savedir = \"checkpoints\"\n",
    "savedir = \"{}/base-{}\".format(root_savedir, now)\n",
    "\n",
    "tf.reset_default_graph()\n",
    "tf.set_random_seed(tf_seed) # set random seed\n",
    "n_neurons = 50\n",
    "lr_start = 0.1\n",
    "\n",
    "X = tf.placeholder(tf.float64, shape=[None, 784])\n",
    "y = tf.placeholder(tf.int64, shape=[None])\n",
    "is_training = tf.placeholder(tf.bool, shape=(), name=\"is_training\")\n",
    "keep_prob = 0.75\n",
    "\n",
    "with tf.variable_scope(\"forward\"):\n",
    "    dense_1 = fully_connected(X, 64, scope=\"dense_1\")\n",
    "    dense_2 = fully_connected(dense_1, 32, scope=\"dense_2\")\n",
    "    output = fully_connected(dense_2, 10, activation_fn=None, scope=\"output\")\n",
    "    \n",
    "with tf.variable_scope(\"loss\"):\n",
    "    xentropy = tf.nn.sparse_softmax_cross_entropy_with_logits(logits=output, labels=y,name=\"xentropy\")\n",
    "    loss = tf.reduce_mean(xentropy,name=\"loss\")\n",
    "    \n",
    "with tf.variable_scope(\"annealing\"):\n",
    "    lr = tf.placeholder(tf.float32, shape=(), name=\"learning_rate\")\n",
    "    \n",
    "with tf.variable_scope(\"train\"):\n",
    "    optimizer = tf.train.GradientDescentOptimizer(lr)\n",
    "    training_op = optimizer.minimize(loss)\n",
    "\n",
    "with tf.variable_scope(\"eval\"):\n",
    "    pred = tf.argmax(output,axis=1,name=\"prediction\")\n",
    "    accuracy = tf.reduce_mean(tf.cast(tf.equal(pred,y),tf.float64))\n",
    "with tf.variable_scope(\"save\"):\n",
    "    saver = tf.train.Saver()\n",
    "    train_loss_summary = tf.summary.scalar(\"train_loss\", loss)\n",
    "    test_loss_summary = tf.summary.scalar(\"test_loss\", loss)\n",
    "    train_accuracy_summary = tf.summary.scalar(\"train_accuracy\", accuracy)\n",
    "    test_accuracy_summary = tf.summary.scalar(\"test_accuracy\", accuracy)\n",
    "    filewriter = tf.summary.FileWriter(logdir,tf.get_default_graph())\n",
    "    \n",
    "# execution phase\n",
    "with tf.Session() as sess:\n",
    "    np.random.seed(np_seed) # set random seed\n",
    "    start_running = time()\n",
    "    sess.run(tf.global_variables_initializer())\n",
    "    n_epochs = 200\n",
    "    batch_size = 1000\n",
    "    n_batches = int(np.ceil(m/batch_size))\n",
    "    \n",
    "    for epoch in range(n_epochs):\n",
    "        lr_ = lr_start\n",
    "        for batch in range(n_batches):\n",
    "            X_batch, y_batch = fetch_batch(X_train, y_train, batch_size)\n",
    "            sess.run(training_op, feed_dict={X:X_batch,y:y_batch,lr:lr_,is_training:True})\n",
    "        if epoch%10==0:\n",
    "            start_time = time()\n",
    "            test_loss_summary_,  test_accuracy_summary_,  loss_test,  accuracy_test  = sess.run([test_loss_summary,\n",
    "                                                                                                 test_accuracy_summary,\n",
    "                                                                                                 loss, \n",
    "                                                                                                 accuracy],\n",
    "                                                                                                feed_dict={X:X_test,y:y_test,is_training:False})\n",
    "            train_loss_summary_, train_accuracy_summary_, loss_train, accuracy_train = sess.run([train_loss_summary,\n",
    "                                                                                                 train_accuracy_summary,\n",
    "                                                                                                 loss,\n",
    "                                                                                                 accuracy], \n",
    "                                                                                                feed_dict={X:X_train,y:y_train,is_training:False})\n",
    "            \n",
    "            filewriter.add_summary(test_loss_summary_,epoch)\n",
    "            filewriter.add_summary(train_loss_summary_,epoch)\n",
    "            filewriter.add_summary(test_accuracy_summary_,epoch)\n",
    "            filewriter.add_summary(train_accuracy_summary_,epoch)\n",
    "            \n",
    "            print(\"Epoch:\",epoch)\n",
    "            print(\"test loss : %.4f\" % loss_test , \"test accuracy : %.4f\" % accuracy_test)\n",
    "            print(\"train loss: %.4f\" % loss_train, \"train accuracy: %.4f\" % accuracy_train)\n",
    "            print(\"elapsed time: %.0f\" % (time()-start_running), \"lr: %.1e\" % lr_)\n",
    "            print(\"Time to log:\",time()-start_time)\n",
    "        if epoch%50==0:\n",
    "            saver.save(sess,savedir+\"/model.ckpt\")\n",
    "    saver.save(sess,savedir+\"/model_final.ckpt\")\n",
    "    train_accuracy = np.mean(sess.run(pred, feed_dict={X:X_train, y:y_train,is_training:False})==y_train)\n",
    "    test_accuracy = np.mean(sess.run(pred, feed_dict={X:X_test, y:y_test,is_training:False})==y_test)\n",
    "    print(\"Test accuracy :\", test_accuracy)\n",
    "    print(\"Train accuracy:\", train_accuracy)"
   ]
  },
  {
   "cell_type": "code",
   "execution_count": null,
   "metadata": {},
   "outputs": [],
   "source": [
    "\n",
    "    "
   ]
  }
 ],
 "metadata": {
  "kernelspec": {
   "display_name": "Python 3",
   "language": "python",
   "name": "python3"
  },
  "language_info": {
   "codemirror_mode": {
    "name": "ipython",
    "version": 3
   },
   "file_extension": ".py",
   "mimetype": "text/x-python",
   "name": "python",
   "nbconvert_exporter": "python",
   "pygments_lexer": "ipython3",
   "version": "3.6.3"
  }
 },
 "nbformat": 4,
 "nbformat_minor": 2
}
