{
 "cells": [
  {
   "cell_type": "code",
   "execution_count": 21,
   "metadata": {},
   "outputs": [],
   "source": [
    "import tensorflow as tf\n",
    "from sklearn.datasets import fetch_mldata\n",
    "from sklearn.model_selection import train_test_split\n",
    "from sklearn.preprocessing import StandardScaler\n",
    "from sklearn.metrics import accuracy_score"
   ]
  },
  {
   "cell_type": "code",
   "execution_count": 7,
   "metadata": {},
   "outputs": [],
   "source": [
    "mnist = fetch_mldata(\"MNIST original\")"
   ]
  },
  {
   "cell_type": "code",
   "execution_count": 18,
   "metadata": {},
   "outputs": [
    {
     "name": "stderr",
     "output_type": "stream",
     "text": [
      "C:\\Anaconda3\\lib\\site-packages\\sklearn\\model_selection\\_split.py:2026: FutureWarning: From version 0.21, test_size will always complement train_size unless both are specified.\n",
      "  FutureWarning)\n"
     ]
    }
   ],
   "source": [
    "train_size = 60000\n",
    "X_train, X_test, y_train, y_test = train_test_split(mnist.data, mnist.target.astype(int), train_size=train_size,shuffle=True)"
   ]
  },
  {
   "cell_type": "code",
   "execution_count": 11,
   "metadata": {},
   "outputs": [
    {
     "name": "stderr",
     "output_type": "stream",
     "text": [
      "C:\\Anaconda3\\lib\\site-packages\\sklearn\\utils\\validation.py:475: DataConversionWarning: Data with input dtype uint8 was converted to float64 by StandardScaler.\n",
      "  warnings.warn(msg, DataConversionWarning)\n"
     ]
    }
   ],
   "source": [
    "std_scaler = StandardScaler()\n",
    "X_train = std_scaler.fit_transform(X_train)\n",
    "X_test = std_scaler.transform(X_test)"
   ]
  },
  {
   "cell_type": "code",
   "execution_count": 33,
   "metadata": {},
   "outputs": [
    {
     "name": "stdout",
     "output_type": "stream",
     "text": [
      "INFO:tensorflow:Using default config.\n",
      "WARNING:tensorflow:Using temporary folder as model directory: C:\\Users\\tug64107\\AppData\\Local\\Temp\\tmpc0pdugnh\n",
      "INFO:tensorflow:Using config: {'_task_type': None, '_task_id': 0, '_cluster_spec': <tensorflow.python.training.server_lib.ClusterSpec object at 0x000001BE067597F0>, '_master': '', '_num_ps_replicas': 0, '_num_worker_replicas': 0, '_environment': 'local', '_is_chief': True, '_evaluation_master': '', '_tf_config': gpu_options {\n",
      "  per_process_gpu_memory_fraction: 1\n",
      "}\n",
      ", '_tf_random_seed': None, '_save_summary_steps': 100, '_save_checkpoints_secs': 600, '_log_step_count_steps': 100, '_session_config': None, '_save_checkpoints_steps': None, '_keep_checkpoint_max': 5, '_keep_checkpoint_every_n_hours': 10000, '_model_dir': 'C:\\\\Users\\\\tug64107\\\\AppData\\\\Local\\\\Temp\\\\tmpc0pdugnh'}\n",
      "INFO:tensorflow:Create CheckpointSaverHook.\n",
      "INFO:tensorflow:Saving checkpoints for 1 into C:\\Users\\tug64107\\AppData\\Local\\Temp\\tmpc0pdugnh\\model.ckpt.\n",
      "INFO:tensorflow:loss = 81.3493, step = 1\n",
      "INFO:tensorflow:global_step/sec: 112.736\n",
      "INFO:tensorflow:loss = 2.03139, step = 101 (0.883 sec)\n",
      "INFO:tensorflow:global_step/sec: 117.306\n",
      "INFO:tensorflow:loss = 1.62188, step = 201 (0.870 sec)\n",
      "INFO:tensorflow:global_step/sec: 115.296\n",
      "INFO:tensorflow:loss = 1.39597, step = 301 (0.855 sec)\n",
      "INFO:tensorflow:global_step/sec: 116.96\n",
      "INFO:tensorflow:loss = 1.295, step = 401 (0.857 sec)\n",
      "INFO:tensorflow:global_step/sec: 113.289\n",
      "INFO:tensorflow:loss = 1.22668, step = 501 (0.891 sec)\n",
      "INFO:tensorflow:global_step/sec: 113.101\n",
      "INFO:tensorflow:loss = 1.09046, step = 601 (0.881 sec)\n",
      "INFO:tensorflow:global_step/sec: 112.996\n",
      "INFO:tensorflow:loss = 1.13733, step = 701 (0.888 sec)\n",
      "INFO:tensorflow:global_step/sec: 101.54\n",
      "INFO:tensorflow:loss = 1.06269, step = 801 (0.977 sec)\n",
      "INFO:tensorflow:global_step/sec: 115.153\n",
      "INFO:tensorflow:loss = 1.27262, step = 901 (0.868 sec)\n",
      "INFO:tensorflow:global_step/sec: 117.405\n",
      "INFO:tensorflow:loss = 0.979237, step = 1001 (0.858 sec)\n",
      "INFO:tensorflow:global_step/sec: 110.983\n",
      "INFO:tensorflow:loss = 0.906956, step = 1101 (0.896 sec)\n",
      "INFO:tensorflow:global_step/sec: 114.816\n",
      "INFO:tensorflow:loss = 0.907221, step = 1201 (0.874 sec)\n",
      "INFO:tensorflow:global_step/sec: 109.99\n",
      "INFO:tensorflow:loss = 0.992772, step = 1301 (0.903 sec)\n",
      "INFO:tensorflow:global_step/sec: 117.158\n",
      "INFO:tensorflow:loss = 0.894058, step = 1401 (0.861 sec)\n",
      "INFO:tensorflow:global_step/sec: 114.912\n",
      "INFO:tensorflow:loss = 0.946323, step = 1501 (0.873 sec)\n",
      "INFO:tensorflow:global_step/sec: 114.017\n",
      "INFO:tensorflow:loss = 0.858809, step = 1601 (0.866 sec)\n",
      "INFO:tensorflow:global_step/sec: 116.815\n",
      "INFO:tensorflow:loss = 0.946768, step = 1701 (0.850 sec)\n",
      "INFO:tensorflow:global_step/sec: 114.843\n",
      "INFO:tensorflow:loss = 0.755131, step = 1801 (0.871 sec)\n",
      "INFO:tensorflow:global_step/sec: 117.994\n",
      "INFO:tensorflow:loss = 0.767786, step = 1901 (0.865 sec)\n",
      "INFO:tensorflow:global_step/sec: 102.588\n",
      "INFO:tensorflow:loss = 0.773642, step = 2001 (0.969 sec)\n",
      "INFO:tensorflow:global_step/sec: 106.06\n",
      "INFO:tensorflow:loss = 0.615302, step = 2101 (0.940 sec)\n",
      "INFO:tensorflow:global_step/sec: 95.2413\n",
      "INFO:tensorflow:loss = 0.619109, step = 2201 (1.050 sec)\n",
      "INFO:tensorflow:global_step/sec: 104.785\n",
      "INFO:tensorflow:loss = 0.630308, step = 2301 (0.951 sec)\n",
      "INFO:tensorflow:global_step/sec: 119.165\n",
      "INFO:tensorflow:loss = 0.567121, step = 2401 (0.845 sec)\n",
      "INFO:tensorflow:global_step/sec: 113.72\n",
      "INFO:tensorflow:loss = 0.62328, step = 2501 (0.887 sec)\n",
      "INFO:tensorflow:global_step/sec: 116.863\n",
      "INFO:tensorflow:loss = 0.624436, step = 2601 (0.849 sec)\n",
      "INFO:tensorflow:global_step/sec: 115.335\n",
      "INFO:tensorflow:loss = 0.55652, step = 2701 (0.860 sec)\n",
      "INFO:tensorflow:global_step/sec: 115.119\n",
      "INFO:tensorflow:loss = 0.573945, step = 2801 (0.863 sec)\n",
      "INFO:tensorflow:global_step/sec: 119.149\n",
      "INFO:tensorflow:loss = 0.563067, step = 2901 (0.856 sec)\n",
      "INFO:tensorflow:global_step/sec: 115.828\n",
      "INFO:tensorflow:loss = 0.577547, step = 3001 (0.864 sec)\n",
      "INFO:tensorflow:global_step/sec: 104.734\n",
      "INFO:tensorflow:loss = 0.544011, step = 3101 (0.949 sec)\n",
      "INFO:tensorflow:global_step/sec: 112.943\n",
      "INFO:tensorflow:loss = 0.573233, step = 3201 (0.888 sec)\n",
      "INFO:tensorflow:global_step/sec: 111.04\n",
      "INFO:tensorflow:loss = 0.538147, step = 3301 (0.894 sec)\n",
      "INFO:tensorflow:global_step/sec: 120.107\n",
      "INFO:tensorflow:loss = 0.584838, step = 3401 (0.845 sec)\n",
      "INFO:tensorflow:global_step/sec: 110.916\n",
      "INFO:tensorflow:loss = 0.54855, step = 3501 (0.891 sec)\n",
      "INFO:tensorflow:global_step/sec: 120.162\n",
      "INFO:tensorflow:loss = 0.485221, step = 3601 (0.823 sec)\n",
      "INFO:tensorflow:global_step/sec: 119.206\n",
      "INFO:tensorflow:loss = 0.596508, step = 3701 (0.858 sec)\n",
      "INFO:tensorflow:global_step/sec: 107.194\n",
      "INFO:tensorflow:loss = 0.604843, step = 3801 (0.922 sec)\n",
      "INFO:tensorflow:global_step/sec: 109.053\n",
      "INFO:tensorflow:loss = 0.442035, step = 3901 (0.917 sec)\n",
      "INFO:tensorflow:global_step/sec: 99.7224\n",
      "INFO:tensorflow:loss = 0.534742, step = 4001 (1.002 sec)\n",
      "INFO:tensorflow:global_step/sec: 109.742\n",
      "INFO:tensorflow:loss = 0.535935, step = 4101 (0.922 sec)\n",
      "INFO:tensorflow:global_step/sec: 110.395\n",
      "INFO:tensorflow:loss = 0.535008, step = 4201 (0.897 sec)\n",
      "INFO:tensorflow:global_step/sec: 110.975\n",
      "INFO:tensorflow:loss = 0.637679, step = 4301 (0.900 sec)\n",
      "INFO:tensorflow:global_step/sec: 115.333\n",
      "INFO:tensorflow:loss = 0.603853, step = 4401 (0.867 sec)\n",
      "INFO:tensorflow:global_step/sec: 116.775\n",
      "INFO:tensorflow:loss = 0.533401, step = 4501 (0.855 sec)\n",
      "INFO:tensorflow:global_step/sec: 120.708\n",
      "INFO:tensorflow:loss = 0.518096, step = 4601 (0.821 sec)\n",
      "INFO:tensorflow:global_step/sec: 115.535\n",
      "INFO:tensorflow:loss = 0.501071, step = 4701 (0.871 sec)\n",
      "INFO:tensorflow:global_step/sec: 116.471\n",
      "INFO:tensorflow:loss = 0.506883, step = 4801 (0.861 sec)\n",
      "INFO:tensorflow:global_step/sec: 114.477\n",
      "INFO:tensorflow:loss = 0.517311, step = 4901 (0.875 sec)\n",
      "INFO:tensorflow:global_step/sec: 117.118\n",
      "INFO:tensorflow:loss = 0.519234, step = 5001 (0.852 sec)\n",
      "INFO:tensorflow:global_step/sec: 117.351\n",
      "INFO:tensorflow:loss = 0.508993, step = 5101 (0.859 sec)\n",
      "INFO:tensorflow:global_step/sec: 113.316\n",
      "INFO:tensorflow:loss = 0.487525, step = 5201 (0.876 sec)\n",
      "INFO:tensorflow:global_step/sec: 110.837\n",
      "INFO:tensorflow:loss = 0.549199, step = 5301 (0.902 sec)\n",
      "INFO:tensorflow:global_step/sec: 110.94\n",
      "INFO:tensorflow:loss = 0.504691, step = 5401 (0.897 sec)\n",
      "INFO:tensorflow:global_step/sec: 110.698\n",
      "INFO:tensorflow:loss = 0.530725, step = 5501 (0.923 sec)\n",
      "INFO:tensorflow:global_step/sec: 115.791\n",
      "INFO:tensorflow:loss = 0.56664, step = 5601 (0.856 sec)\n",
      "INFO:tensorflow:global_step/sec: 113.9\n",
      "INFO:tensorflow:loss = 0.522426, step = 5701 (0.873 sec)\n",
      "INFO:tensorflow:global_step/sec: 106.434\n",
      "INFO:tensorflow:loss = 0.540885, step = 5801 (0.937 sec)\n",
      "INFO:tensorflow:global_step/sec: 108.053\n",
      "INFO:tensorflow:loss = 0.586459, step = 5901 (0.926 sec)\n",
      "INFO:tensorflow:global_step/sec: 116.131\n",
      "INFO:tensorflow:loss = 0.449192, step = 6001 (0.869 sec)\n",
      "INFO:tensorflow:global_step/sec: 118\n",
      "INFO:tensorflow:loss = 0.500026, step = 6101 (0.848 sec)\n",
      "INFO:tensorflow:global_step/sec: 116.788\n",
      "INFO:tensorflow:loss = 0.518517, step = 6201 (0.850 sec)\n",
      "INFO:tensorflow:global_step/sec: 114.311\n",
      "INFO:tensorflow:loss = 0.556089, step = 6301 (0.882 sec)\n",
      "INFO:tensorflow:global_step/sec: 115.613\n",
      "INFO:tensorflow:loss = 0.422757, step = 6401 (0.865 sec)\n",
      "INFO:tensorflow:global_step/sec: 113.948\n",
      "INFO:tensorflow:loss = 0.557838, step = 6501 (0.868 sec)\n",
      "INFO:tensorflow:global_step/sec: 117.013\n",
      "INFO:tensorflow:loss = 0.525882, step = 6601 (0.855 sec)\n",
      "INFO:tensorflow:global_step/sec: 116.887\n",
      "INFO:tensorflow:loss = 0.444373, step = 6701 (0.860 sec)\n",
      "INFO:tensorflow:global_step/sec: 113.441\n",
      "INFO:tensorflow:loss = 0.533219, step = 6801 (0.876 sec)\n",
      "INFO:tensorflow:global_step/sec: 113.387\n",
      "INFO:tensorflow:loss = 0.568831, step = 6901 (0.885 sec)\n",
      "INFO:tensorflow:global_step/sec: 111.552\n",
      "INFO:tensorflow:loss = 0.494436, step = 7001 (0.891 sec)\n",
      "INFO:tensorflow:global_step/sec: 116.548\n",
      "INFO:tensorflow:loss = 0.53579, step = 7101 (0.872 sec)\n",
      "INFO:tensorflow:global_step/sec: 115.449\n",
      "INFO:tensorflow:loss = 0.464052, step = 7201 (0.867 sec)\n",
      "INFO:tensorflow:global_step/sec: 115.354\n",
      "INFO:tensorflow:loss = 0.537612, step = 7301 (0.870 sec)\n",
      "INFO:tensorflow:global_step/sec: 112.852\n",
      "INFO:tensorflow:loss = 0.416806, step = 7401 (0.878 sec)\n"
     ]
    },
    {
     "name": "stdout",
     "output_type": "stream",
     "text": [
      "INFO:tensorflow:global_step/sec: 112.961\n",
      "INFO:tensorflow:loss = 0.492746, step = 7501 (0.878 sec)\n",
      "INFO:tensorflow:global_step/sec: 111.001\n",
      "INFO:tensorflow:loss = 0.408873, step = 7601 (0.903 sec)\n",
      "INFO:tensorflow:global_step/sec: 112.947\n",
      "INFO:tensorflow:loss = 0.488165, step = 7701 (0.891 sec)\n",
      "INFO:tensorflow:global_step/sec: 112.625\n",
      "INFO:tensorflow:loss = 0.451136, step = 7801 (0.881 sec)\n",
      "INFO:tensorflow:global_step/sec: 116.072\n",
      "INFO:tensorflow:loss = 0.465309, step = 7901 (0.853 sec)\n",
      "INFO:tensorflow:global_step/sec: 114.898\n",
      "INFO:tensorflow:loss = 0.446857, step = 8001 (0.890 sec)\n",
      "INFO:tensorflow:global_step/sec: 115.897\n",
      "INFO:tensorflow:loss = 0.45576, step = 8101 (0.851 sec)\n",
      "INFO:tensorflow:global_step/sec: 117.088\n",
      "INFO:tensorflow:loss = 0.500982, step = 8201 (0.865 sec)\n",
      "INFO:tensorflow:global_step/sec: 112.968\n",
      "INFO:tensorflow:loss = 0.531054, step = 8301 (0.887 sec)\n",
      "INFO:tensorflow:global_step/sec: 115.51\n",
      "INFO:tensorflow:loss = 0.501077, step = 8401 (0.853 sec)\n",
      "INFO:tensorflow:global_step/sec: 119.512\n",
      "INFO:tensorflow:loss = 0.480791, step = 8501 (0.845 sec)\n",
      "INFO:tensorflow:global_step/sec: 108.426\n",
      "INFO:tensorflow:loss = 0.507299, step = 8601 (0.914 sec)\n",
      "INFO:tensorflow:global_step/sec: 115.788\n",
      "INFO:tensorflow:loss = 0.478287, step = 8701 (0.864 sec)\n",
      "INFO:tensorflow:global_step/sec: 117.828\n",
      "INFO:tensorflow:loss = 0.50776, step = 8801 (0.862 sec)\n",
      "INFO:tensorflow:global_step/sec: 113.059\n",
      "INFO:tensorflow:loss = 0.546897, step = 8901 (0.870 sec)\n",
      "INFO:tensorflow:global_step/sec: 115.823\n",
      "INFO:tensorflow:loss = 0.536537, step = 9001 (0.863 sec)\n",
      "INFO:tensorflow:global_step/sec: 117.038\n",
      "INFO:tensorflow:loss = 0.537762, step = 9101 (0.865 sec)\n",
      "INFO:tensorflow:global_step/sec: 112.873\n",
      "INFO:tensorflow:loss = 0.502442, step = 9201 (0.887 sec)\n",
      "INFO:tensorflow:global_step/sec: 114.964\n",
      "INFO:tensorflow:loss = 0.462716, step = 9301 (0.868 sec)\n",
      "INFO:tensorflow:global_step/sec: 114.431\n",
      "INFO:tensorflow:loss = 0.547158, step = 9401 (0.858 sec)\n",
      "INFO:tensorflow:global_step/sec: 116.229\n",
      "INFO:tensorflow:loss = 0.529003, step = 9501 (0.871 sec)\n",
      "INFO:tensorflow:global_step/sec: 117.674\n",
      "INFO:tensorflow:loss = 0.44675, step = 9601 (0.851 sec)\n",
      "INFO:tensorflow:global_step/sec: 117.446\n",
      "INFO:tensorflow:loss = 0.500792, step = 9701 (0.852 sec)\n",
      "INFO:tensorflow:global_step/sec: 117.895\n",
      "INFO:tensorflow:loss = 0.426632, step = 9801 (0.855 sec)\n",
      "INFO:tensorflow:global_step/sec: 111.113\n",
      "INFO:tensorflow:loss = 0.447865, step = 9901 (0.891 sec)\n",
      "INFO:tensorflow:Saving checkpoints for 10000 into C:\\Users\\tug64107\\AppData\\Local\\Temp\\tmpc0pdugnh\\model.ckpt.\n",
      "INFO:tensorflow:Loss for final step: 0.54266.\n"
     ]
    },
    {
     "data": {
      "text/plain": [
       "DNNClassifier(params={'head': <tensorflow.contrib.learn.python.learn.estimators.head._MultiClassHead object at 0x000001BE0705C358>, 'hidden_units': [30, 30, 30, 30], 'feature_columns': (_RealValuedColumn(column_name='', dimension=784, default_value=None, dtype=tf.uint8, normalizer=None),), 'optimizer': None, 'activation_fn': <function relu at 0x000001BE5A538378>, 'dropout': None, 'gradient_clip_norm': None, 'embedding_lr_multipliers': None, 'input_layer_min_slice_size': None})"
      ]
     },
     "execution_count": 33,
     "metadata": {},
     "output_type": "execute_result"
    }
   ],
   "source": [
    "# deep neural network classifier\n",
    "tf.reset_default_graph()\n",
    "feature_columns = tf.contrib.learn.infer_real_valued_columns_from_input(X_train)\n",
    "dnn_clf = tf.contrib.learn.DNNClassifier(hidden_units=[30,30,30,30],n_classes=10,feature_columns=feature_columns)\n",
    "dnn_clf.fit(x=X_train, y=y_train, batch_size=500,steps=10000)"
   ]
  },
  {
   "cell_type": "code",
   "execution_count": 34,
   "metadata": {},
   "outputs": [
    {
     "name": "stdout",
     "output_type": "stream",
     "text": [
      "INFO:tensorflow:Starting evaluation at 2018-04-15-03:36:57\n",
      "INFO:tensorflow:Restoring parameters from C:\\Users\\tug64107\\AppData\\Local\\Temp\\tmpc0pdugnh\\model.ckpt-10000\n",
      "INFO:tensorflow:Finished evaluation at 2018-04-15-03:36:58\n",
      "INFO:tensorflow:Saving dict for global step 10000: accuracy = 0.8271, global_step = 10000, loss = 0.54842\n",
      "{'loss': 0.54842007, 'accuracy': 0.82709998, 'global_step': 10000}\n",
      "INFO:tensorflow:Starting evaluation at 2018-04-15-03:37:00\n",
      "INFO:tensorflow:Restoring parameters from C:\\Users\\tug64107\\AppData\\Local\\Temp\\tmpc0pdugnh\\model.ckpt-10000\n",
      "INFO:tensorflow:Finished evaluation at 2018-04-15-03:37:01\n",
      "INFO:tensorflow:Saving dict for global step 10000: accuracy = 0.85495, global_step = 10000, loss = 0.468877\n",
      "{'loss': 0.4688774, 'accuracy': 0.85495001, 'global_step': 10000}\n"
     ]
    }
   ],
   "source": [
    "print(dnn_clf.evaluate(X_test, y_test))\n",
    "print(dnn_clf.evaluate(X_train, y_train))"
   ]
  },
  {
   "cell_type": "code",
   "execution_count": 24,
   "metadata": {},
   "outputs": [
    {
     "data": {
      "text/plain": [
       "10000"
      ]
     },
     "execution_count": 24,
     "metadata": {},
     "output_type": "execute_result"
    }
   ],
   "source": []
  }
 ],
 "metadata": {
  "kernelspec": {
   "display_name": "Python 3",
   "language": "python",
   "name": "python3"
  },
  "language_info": {
   "codemirror_mode": {
    "name": "ipython",
    "version": 3
   },
   "file_extension": ".py",
   "mimetype": "text/x-python",
   "name": "python",
   "nbconvert_exporter": "python",
   "pygments_lexer": "ipython3",
   "version": "3.6.3"
  }
 },
 "nbformat": 4,
 "nbformat_minor": 2
}
