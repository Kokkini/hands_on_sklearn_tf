{
 "cells": [
  {
   "cell_type": "code",
   "execution_count": 2,
   "metadata": {
    "collapsed": true
   },
   "outputs": [],
   "source": [
    "import tensorflow as tf\n",
    "from datetime import datetime"
   ]
  },
  {
   "cell_type": "code",
   "execution_count": 15,
   "metadata": {},
   "outputs": [],
   "source": [
    "# reuse\n",
    "now = datetime.utcnow().strftime(\"%Y%m%d%H%M%S\")\n",
    "root_logdir = \"logs\"\n",
    "logdir = \"{}/run-{}\".format(root_logdir, now)\n",
    "tf.reset_default_graph()\n",
    "with tf.variable_scope(\"A\",):\n",
    "    a = tf.get_variable(\"a\",shape=(),initializer=tf.constant_initializer(0.0))\n",
    "\n",
    "b = tf.get_variable(\"B/b\",shape=(),initializer=tf.constant_initializer(0.0))\n",
    "file_writer = tf.summary.FileWriter(logdir, tf.get_default_graph())\n",
    "\n",
    "# can only reuse variable in a scope\n",
    "# only variables created using get_variable can be reused\n"
   ]
  },
  {
   "cell_type": "code",
   "execution_count": 16,
   "metadata": {
    "collapsed": true
   },
   "outputs": [],
   "source": [
    "# double scope\n",
    "now = datetime.utcnow().strftime(\"%Y%m%d%H%M%S\")\n",
    "root_logdir = \"logs\"\n",
    "logdir = \"{}/run-{}\".format(root_logdir, now)\n",
    "tf.reset_default_graph()\n",
    "with tf.variable_scope(\"A\"):\n",
    "    with tf.variable_scope(\"B\"):\n",
    "        a = tf.get_variable(\"a\",shape=(),initializer=tf.constant_initializer(0.0))\n",
    "file_writer = tf.summary.FileWriter(logdir, tf.get_default_graph())"
   ]
  },
  {
   "cell_type": "code",
   "execution_count": 21,
   "metadata": {},
   "outputs": [],
   "source": [
    "# 2 identical name scope\n",
    "now = datetime.utcnow().strftime(\"%Y%m%d%H%M%S\")\n",
    "root_logdir = \"logs\"\n",
    "logdir = \"{}/run-{}\".format(root_logdir, now)\n",
    "tf.reset_default_graph()\n",
    "with tf.variable_scope(\"A\"):\n",
    "    a = tf.Variable(0.0,name=\"a\")\n",
    "with tf.variable_scope(\"A\",reuse=True):\n",
    "    a = tf.Variable(0.0,name=\"a\")\n",
    "file_writer = tf.summary.FileWriter(logdir, tf.get_default_graph())\n",
    "# this creates A and A_1. To create only one A, you have to use get_variable at both places"
   ]
  }
 ],
 "metadata": {
  "kernelspec": {
   "display_name": "Python 3",
   "language": "python",
   "name": "python3"
  },
  "language_info": {
   "codemirror_mode": {
    "name": "ipython",
    "version": 3
   },
   "file_extension": ".py",
   "mimetype": "text/x-python",
   "name": "python",
   "nbconvert_exporter": "python",
   "pygments_lexer": "ipython3",
   "version": "3.6.3"
  }
 },
 "nbformat": 4,
 "nbformat_minor": 2
}
