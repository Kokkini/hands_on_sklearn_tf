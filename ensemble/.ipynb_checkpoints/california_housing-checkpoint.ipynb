{
 "cells": [
  {
   "cell_type": "code",
   "execution_count": null,
   "metadata": {
    "collapsed": true
   },
   "outputs": [],
   "source": [
    "'''\n",
    "try tree, bagging, stacking and regularization\n",
    "'''"
   ]
  },
  {
   "cell_type": "code",
   "execution_count": 80,
   "metadata": {
    "collapsed": true
   },
   "outputs": [],
   "source": [
    "import numpy as np\n",
    "import matplotlib.pyplot as plt\n",
    "from sklearn.datasets import california_housing\n",
    "from sklearn.ensemble import RandomForestRegressor\n",
    "from sklearn.metrics import mean_squared_error\n",
    "from sklearn.tree import DecisionTreeRegressor\n",
    "from sklearn.model_selection import cross_val_score, GridSearchCV\n",
    "from sklearn.linear_model import SGDRegressor"
   ]
  },
  {
   "cell_type": "code",
   "execution_count": 2,
   "metadata": {
    "collapsed": true
   },
   "outputs": [],
   "source": [
    "# load data\n",
    "housing_data = california_housing.fetch_california_housing()"
   ]
  },
  {
   "cell_type": "code",
   "execution_count": 3,
   "metadata": {},
   "outputs": [
    {
     "name": "stdout",
     "output_type": "stream",
     "text": [
      "[[  8.32520000e+00   4.10000000e+01   6.98412698e+00   1.02380952e+00\n",
      "    3.22000000e+02   2.55555556e+00   3.78800000e+01  -1.22230000e+02]\n",
      " [  8.30140000e+00   2.10000000e+01   6.23813708e+00   9.71880492e-01\n",
      "    2.40100000e+03   2.10984183e+00   3.78600000e+01  -1.22220000e+02]\n",
      " [  7.25740000e+00   5.20000000e+01   8.28813559e+00   1.07344633e+00\n",
      "    4.96000000e+02   2.80225989e+00   3.78500000e+01  -1.22240000e+02]\n",
      " [  5.64310000e+00   5.20000000e+01   5.81735160e+00   1.07305936e+00\n",
      "    5.58000000e+02   2.54794521e+00   3.78500000e+01  -1.22250000e+02]\n",
      " [  3.84620000e+00   5.20000000e+01   6.28185328e+00   1.08108108e+00\n",
      "    5.65000000e+02   2.18146718e+00   3.78500000e+01  -1.22250000e+02]]\n",
      "[ 4.526  3.585  3.521  3.413  3.422]\n",
      "(20640, 8)\n",
      "(20640,)\n"
     ]
    }
   ],
   "source": [
    "X, y = housing_data.data, housing_data.target\n",
    "print(X[:5])\n",
    "print(y[:5])\n",
    "print(X.shape)\n",
    "print(y.shape)"
   ]
  },
  {
   "cell_type": "code",
   "execution_count": 4,
   "metadata": {
    "collapsed": true
   },
   "outputs": [],
   "source": [
    "# shuffle\n",
    "shuffle_ix = np.random.permutation(20640)\n",
    "X, y = X[shuffle_ix], y[shuffle_ix]"
   ]
  },
  {
   "cell_type": "code",
   "execution_count": 5,
   "metadata": {
    "collapsed": true
   },
   "outputs": [],
   "source": [
    "# train test split\n",
    "train_size = 16000\n",
    "X_train, X_test, y_train, y_test = X[:train_size], X[train_size:], y[:train_size], y[train_size:]"
   ]
  },
  {
   "cell_type": "code",
   "execution_count": 15,
   "metadata": {},
   "outputs": [
    {
     "data": {
      "text/plain": [
       "RandomForestRegressor(bootstrap=True, criterion='mse', max_depth=20,\n",
       "           max_features='auto', max_leaf_nodes=None,\n",
       "           min_impurity_decrease=0.0, min_impurity_split=None,\n",
       "           min_samples_leaf=1, min_samples_split=2,\n",
       "           min_weight_fraction_leaf=0.0, n_estimators=100, n_jobs=-1,\n",
       "           oob_score=False, random_state=None, verbose=0, warm_start=True)"
      ]
     },
     "execution_count": 15,
     "metadata": {},
     "output_type": "execute_result"
    }
   ],
   "source": [
    "# train random forest\n",
    "forest_clf = RandomForestRegressor(n_estimators=100, max_depth=20, n_jobs=-1, warm_start=True)\n",
    "forest_clf.fit(X_train, y_train)"
   ]
  },
  {
   "cell_type": "code",
   "execution_count": 16,
   "metadata": {},
   "outputs": [
    {
     "name": "stdout",
     "output_type": "stream",
     "text": [
      "MedInc 0.518264126436\n",
      "HouseAge 0.0546112145657\n",
      "AveRooms 0.0449526262701\n",
      "AveBedrms 0.0294060481695\n",
      "Population 0.0322925370001\n",
      "AveOccup 0.139957688248\n",
      "Latitude 0.0914328941949\n",
      "Longitude 0.0890828651162\n"
     ]
    }
   ],
   "source": [
    "for name, importance in zip(housing_data.feature_names, forest_clf.feature_importances_):\n",
    "    print(name, importance)"
   ]
  },
  {
   "cell_type": "code",
   "execution_count": 17,
   "metadata": {},
   "outputs": [
    {
     "data": {
      "text/plain": [
       "0.81190893666165209"
      ]
     },
     "execution_count": 17,
     "metadata": {},
     "output_type": "execute_result"
    }
   ],
   "source": [
    "forest_clf.score(X_test, y_test)"
   ]
  },
  {
   "cell_type": "code",
   "execution_count": 18,
   "metadata": {},
   "outputs": [
    {
     "data": {
      "text/plain": [
       "0.49625465915275829"
      ]
     },
     "execution_count": 18,
     "metadata": {},
     "output_type": "execute_result"
    }
   ],
   "source": [
    "pred_test = forest_clf.predict(X_test)\n",
    "np.sqrt(mean_squared_error(y_test, pred_test))\n",
    "# this sucks\n",
    "# is it because I overfitted it?\n",
    "# how to regularize random forest?\n",
    "# what if we start with one tree first?"
   ]
  },
  {
   "cell_type": "code",
   "execution_count": 19,
   "metadata": {},
   "outputs": [
    {
     "name": "stdout",
     "output_type": "stream",
     "text": [
      "2.05548663362\n"
     ]
    }
   ],
   "source": [
    "print(np.mean(y_test))"
   ]
  },
  {
   "cell_type": "code",
   "execution_count": 22,
   "metadata": {},
   "outputs": [
    {
     "name": "stdout",
     "output_type": "stream",
     "text": [
      "Root mean square error test : 0.711433735635\n",
      "Root mean square error train: 0.184499524534\n"
     ]
    }
   ],
   "source": [
    "tree = DecisionTreeRegressor(max_depth=16)\n",
    "tree.fit(X_train, y_train)\n",
    "tree_pred = tree.predict(X_test)\n",
    "print(\"Root mean square error test :\", np.sqrt(mean_squared_error(y_test, tree_pred)))\n",
    "print(\"Root mean square error train:\", np.sqrt(mean_squared_error(y_train, tree.predict(X_train))))\n",
    "# so, I massively overfitted"
   ]
  },
  {
   "cell_type": "code",
   "execution_count": 40,
   "metadata": {},
   "outputs": [
    {
     "data": {
      "text/plain": [
       "GridSearchCV(cv=3, error_score='raise',\n",
       "       estimator=DecisionTreeRegressor(criterion='mse', max_depth=None, max_features=None,\n",
       "           max_leaf_nodes=None, min_impurity_decrease=0.0,\n",
       "           min_impurity_split=None, min_samples_leaf=1,\n",
       "           min_samples_split=2, min_weight_fraction_leaf=0.0,\n",
       "           presort=False, random_state=None, splitter='best'),\n",
       "       fit_params=None, iid=True, n_jobs=-1,\n",
       "       param_grid=[{'max_depth': [10, 12, 14], 'min_samples_leaf': [10, 12, 14]}],\n",
       "       pre_dispatch='2*n_jobs', refit=True, return_train_score='warn',\n",
       "       scoring='neg_mean_squared_error', verbose=0)"
      ]
     },
     "execution_count": 40,
     "metadata": {},
     "output_type": "execute_result"
    }
   ],
   "source": [
    "param_grid = [{\"max_depth\":[10,12,14],\"min_samples_leaf\":[10,12,14]}]\n",
    "grid_search = GridSearchCV(DecisionTreeRegressor(), param_grid, scoring = \"neg_mean_squared_error\", n_jobs=-1, cv = 3)\n",
    "grid_search.fit(X_train, y_train)"
   ]
  },
  {
   "cell_type": "code",
   "execution_count": 41,
   "metadata": {},
   "outputs": [
    {
     "data": {
      "text/plain": [
       "{'max_depth': 12, 'min_samples_leaf': 14}"
      ]
     },
     "execution_count": 41,
     "metadata": {},
     "output_type": "execute_result"
    }
   ],
   "source": [
    "grid_search.best_params_\n",
    "# but why?\n",
    "# it overfits a lot at max_depth = 8"
   ]
  },
  {
   "cell_type": "code",
   "execution_count": 53,
   "metadata": {},
   "outputs": [
    {
     "name": "stdout",
     "output_type": "stream",
     "text": [
      "Root mean square error test : 0.583814907324\n",
      "Root mean square error train: 0.501996235999\n"
     ]
    }
   ],
   "source": [
    "better_tree = DecisionTreeRegressor(min_samples_leaf=20, max_depth=20)\n",
    "better_tree.fit(X_train, y_train)\n",
    "print(\"Root mean square error test :\", np.sqrt(mean_squared_error(y_test, better_tree.predict(X_test))))\n",
    "print(\"Root mean square error train:\", np.sqrt(mean_squared_error(y_train, better_tree.predict(X_train))))"
   ]
  },
  {
   "cell_type": "code",
   "execution_count": 63,
   "metadata": {},
   "outputs": [
    {
     "data": {
      "text/plain": [
       "RandomForestRegressor(bootstrap=True, criterion='mse', max_depth=14,\n",
       "           max_features='auto', max_leaf_nodes=None,\n",
       "           min_impurity_decrease=0.0, min_impurity_split=None,\n",
       "           min_samples_leaf=1, min_samples_split=2,\n",
       "           min_weight_fraction_leaf=0.0, n_estimators=300, n_jobs=-1,\n",
       "           oob_score=False, random_state=None, verbose=0, warm_start=False)"
      ]
     },
     "execution_count": 63,
     "metadata": {},
     "output_type": "execute_result"
    }
   ],
   "source": [
    "forest = RandomForestRegressor(n_estimators=300, max_depth=14, n_jobs=-1)\n",
    "forest.fit(X_train, y_train)"
   ]
  },
  {
   "cell_type": "code",
   "execution_count": 64,
   "metadata": {},
   "outputs": [
    {
     "name": "stdout",
     "output_type": "stream",
     "text": [
      "Root mean square error test : 0.500031829248\n",
      "Root mean square error train: 0.262920892175\n"
     ]
    }
   ],
   "source": [
    "print(\"Root mean square error test :\", np.sqrt(mean_squared_error(y_test, forest.predict(X_test))))\n",
    "print(\"Root mean square error train:\", np.sqrt(mean_squared_error(y_train, forest.predict(X_train))))"
   ]
  },
  {
   "cell_type": "code",
   "execution_count": 110,
   "metadata": {},
   "outputs": [],
   "source": [
    "# stacking\n",
    "n_trees = 100\n",
    "garden = [DecisionTreeRegressor(max_depth=14) for i in range(n_trees)]\n",
    "for t in garden:\n",
    "    t.fit(X_train, y_train)"
   ]
  },
  {
   "cell_type": "code",
   "execution_count": 111,
   "metadata": {},
   "outputs": [
    {
     "name": "stdout",
     "output_type": "stream",
     "text": [
      "(16000, 100)\n"
     ]
    }
   ],
   "source": [
    "# create training data for blender\n",
    "X_blend = np.concatenate([t.predict(X_train).reshape([-1,1]) for t in garden], axis=1)\n",
    "print(X_blend.shape)"
   ]
  },
  {
   "cell_type": "code",
   "execution_count": 112,
   "metadata": {},
   "outputs": [
    {
     "name": "stderr",
     "output_type": "stream",
     "text": [
      "C:\\Anaconda3\\lib\\site-packages\\sklearn\\linear_model\\stochastic_gradient.py:128: FutureWarning: max_iter and tol parameters have been added in <class 'sklearn.linear_model.stochastic_gradient.SGDRegressor'> in 0.19. If both are left unset, they default to max_iter=5 and tol=None. If tol is not None, max_iter defaults to max_iter=1000. From 0.21, default max_iter will be 1000, and default tol will be 1e-3.\n",
      "  \"and default tol will be 1e-3.\" % type(self), FutureWarning)\n"
     ]
    },
    {
     "data": {
      "text/plain": [
       "SGDRegressor(alpha=0.0001, average=False, epsilon=0.1, eta0=0.01,\n",
       "       fit_intercept=True, l1_ratio=0.15, learning_rate='invscaling',\n",
       "       loss='squared_loss', max_iter=None, n_iter=None, penalty='l2',\n",
       "       power_t=0.25, random_state=None, shuffle=True, tol=None, verbose=0,\n",
       "       warm_start=False)"
      ]
     },
     "execution_count": 112,
     "metadata": {},
     "output_type": "execute_result"
    }
   ],
   "source": [
    "blender = SGDRegressor()\n",
    "blender.fit(X_blend, y_train)"
   ]
  },
  {
   "cell_type": "code",
   "execution_count": 113,
   "metadata": {
    "collapsed": true
   },
   "outputs": [],
   "source": [
    "def stacking_predict(garden, blender, X_test):\n",
    "    X_blend = np.concatenate([t.predict(X_test).reshape([-1,1]) for t in garden], axis=1)\n",
    "    return blender.predict(X_blend)"
   ]
  },
  {
   "cell_type": "code",
   "execution_count": 114,
   "metadata": {},
   "outputs": [
    {
     "name": "stdout",
     "output_type": "stream",
     "text": [
      "Root mean square error test : 0.697257649221\n",
      "Root mean square error train: 0.278566308884\n"
     ]
    }
   ],
   "source": [
    "print(\"Root mean square error test :\", np.sqrt(mean_squared_error(y_test, stacking_predict(garden, blender, X_test))))\n",
    "print(\"Root mean square error train:\", np.sqrt(mean_squared_error(y_train, stacking_predict(garden, blender, X_train))))"
   ]
  },
  {
   "cell_type": "code",
   "execution_count": 122,
   "metadata": {},
   "outputs": [
    {
     "data": {
      "image/png": "[encoded data removed]",
      "text/plain": [
       "<matplotlib.figure.Figure at 0x1a48215d160>"
      ]
     },
     "metadata": {},
     "output_type": "display_data"
    }
   ],
   "source": [
    "blender_pred = stacking_predict(garden, blender, X_test)\n",
    "plt.scatter(X_test[:,0], y_test, s=0.3)\n",
    "# plt.scatter(X_test[:,0], blender_pred, s=0.3)\n",
    "# plt.scatter(X_test[:,0], forest.predict(X_test), s=0.3)\n",
    "plt.scatter(X_test[:,0], better_tree.predict(X_test), s=0.3)\n",
    "plt.show()"
   ]
  }
 ],
 "metadata": {
  "kernelspec": {
   "display_name": "Python 3",
   "language": "python",
   "name": "python3"
  },
  "language_info": {
   "codemirror_mode": {
    "name": "ipython",
    "version": 3
   },
   "file_extension": ".py",
   "mimetype": "text/x-python",
   "name": "python",
   "nbconvert_exporter": "python",
   "pygments_lexer": "ipython3",
   "version": "3.6.3"
  }
 },
 "nbformat": 4,
 "nbformat_minor": 2
}
