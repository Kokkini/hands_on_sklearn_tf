{
 "cells": [
  {
   "cell_type": "code",
   "execution_count": 19,
   "metadata": {},
   "outputs": [
    {
     "name": "stdout",
     "output_type": "stream",
     "text": [
      "Tensor(\"Size_9:0\", shape=(), dtype=int32)\n",
      "0.75\n"
     ]
    }
   ],
   "source": [
    "import tensorflow as tf\n",
    "import numpy as np\n",
    "B = np.array([[2,2],[2,3]],dtype=np.int32)\n",
    "a = tf.constant(2,shape=[2,2],dtype=tf.int32)\n",
    "b = tf.placeholder(dtype=tf.int32,shape=[2,2])\n",
    "d = tf.size(a)\n",
    "print(d)\n",
    "c = tf.divide(tf.count_nonzero(a-b,dtype=tf.int32),d)\n",
    "e = tf.reduce_mean(tf.cast(tf.equal(a,b),tf.float32))\n",
    "\n",
    "with tf.Session() as sess:\n",
    "    print(sess.run(e,feed_dict={b:B}))"
   ]
  }
 ],
 "metadata": {
  "kernelspec": {
   "display_name": "Python 3",
   "language": "python",
   "name": "python3"
  },
  "language_info": {
   "codemirror_mode": {
    "name": "ipython",
    "version": 3
   },
   "file_extension": ".py",
   "mimetype": "text/x-python",
   "name": "python",
   "nbconvert_exporter": "python",
   "pygments_lexer": "ipython3",
   "version": "3.6.3"
  }
 },
 "nbformat": 4,
 "nbformat_minor": 2
}
