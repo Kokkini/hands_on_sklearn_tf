{
 "cells": [
  {
   "cell_type": "code",
   "execution_count": 57,
   "metadata": {
    "collapsed": true
   },
   "outputs": [],
   "source": [
    "# setup the environment\n",
    "import numpy as np\n",
    "import pandas as pd\n",
    "import matplotlib.pyplot as plt\n",
    "from sklearn.model_selection import train_test_split\n",
    "from sklearn.base import BaseEstimator, TransformerMixin\n",
    "from sklearn.pipeline import Pipeline, FeatureUnion\n",
    "from sklearn.preprocessing import StandardScaler, Imputer\n",
    "from sklearn.metrics import mean_squared_error\n"
   ]
  },
  {
   "cell_type": "code",
   "execution_count": 58,
   "metadata": {
    "collapsed": true
   },
   "outputs": [],
   "source": [
    "# load data\n",
    "data_path = \"C:/Users/tug64107/Desktop/AI/play_AI/hands_on_tf/datasets/housing/housing.csv\"\n",
    "df = pd.read_csv(data_path)"
   ]
  },
  {
   "cell_type": "code",
   "execution_count": 59,
   "metadata": {},
   "outputs": [
    {
     "data": {
      "image/png": "[encoded data removed]",
      "text/plain": [
       "<matplotlib.figure.Figure at 0x2a005c9d128>"
      ]
     },
     "metadata": {},
     "output_type": "display_data"
    }
   ],
   "source": [
    "# create categories to stratified split\n",
    "df[\"cat\"] = np.floor(df[\"median_house_value\"]/100000)\n",
    "df[\"cat\"].where(df[\"cat\"]<=4,4, inplace=True)\n",
    "df[\"cat\"].hist()\n",
    "plt.show()"
   ]
  },
  {
   "cell_type": "code",
   "execution_count": 60,
   "metadata": {},
   "outputs": [
    {
     "name": "stdout",
     "output_type": "stream",
     "text": [
      "1.0    0.401587\n",
      "2.0    0.236858\n",
      "0.0    0.174237\n",
      "3.0    0.101502\n",
      "4.0    0.085816\n",
      "Name: cat, dtype: float64\n",
      "1.0    0.401599\n",
      "2.0    0.236870\n",
      "0.0    0.174225\n",
      "3.0    0.101502\n",
      "4.0    0.085804\n",
      "Name: cat, dtype: float64\n"
     ]
    }
   ],
   "source": [
    "# split\n",
    "train, test = train_test_split(df,test_size=0.2,stratify=df[\"cat\"])\n",
    "print(train[\"cat\"].value_counts()/len(train))\n",
    "print(df[\"cat\"].value_counts()/len(df))"
   ]
  },
  {
   "cell_type": "code",
   "execution_count": 61,
   "metadata": {
    "collapsed": true
   },
   "outputs": [],
   "source": [
    "# split x, y\n",
    "y_train = train[\"median_house_value\"]\n",
    "x_train = train.drop([\"cat\", \"median_house_value\"],axis=1)\n",
    "y_test = test[\"median_house_value\"]\n",
    "x_test = test.drop([\"cat\",\"median_house_value\"],axis=1)"
   ]
  },
  {
   "cell_type": "code",
   "execution_count": 62,
   "metadata": {
    "collapsed": true
   },
   "outputs": [],
   "source": [
    "# pipeline\n",
    "# things to do:\n",
    "    # factorize ocean proximity\n",
    "    # impute average value for all\n",
    "    # add bedrooms_per_room and add room_per_house\n",
    "    # drop households, total_bedrooms and total_rooms\n",
    "    # standardize everything\n",
    "    "
   ]
  },
  {
   "cell_type": "code",
   "execution_count": 63,
   "metadata": {},
   "outputs": [
    {
     "name": "stdout",
     "output_type": "stream",
     "text": [
      "['INLAND' 'NEAR BAY' '<1H OCEAN' 'NEAR OCEAN' 'ISLAND']\n",
      "[[-0.91828793  1.35781352  0.66418476 -0.72393973 -0.69268182 -0.47354831\n",
      "  -0.33437146 -0.02904573  0.        ]\n",
      " [-1.25256923  0.95952028 -1.08395254  0.04676167  0.43664308 -0.18208062\n",
      "  -0.33935713  0.16489778  1.        ]\n",
      " [ 0.59845111 -0.66645329  0.34634162  0.48876886 -0.19650246 -0.06880782\n",
      "  -0.24484862  0.26425004  2.        ]\n",
      " [ 0.60842965 -0.78828416  1.29987106 -0.55699768 -0.67459195  0.03843425\n",
      "  -0.35752508 -0.23766817  2.        ]\n",
      " [ 0.62838675 -0.75079774  1.85609656 -0.16602458 -0.29470463 -0.54916839\n",
      "  -0.19321416 -0.00268473  2.        ]]\n",
      "       longitude  latitude  housing_median_age  total_rooms  total_bedrooms  \\\n",
      "12573    -121.41     38.53                37.0       1058.0           224.0   \n",
      "609      -122.08     37.68                15.0       3051.0           685.0   \n",
      "3696     -118.37     34.21                33.0       2034.0           470.0   \n",
      "8379     -118.35     33.95                45.0       1076.0           213.0   \n",
      "4845     -118.31     34.03                52.0       1902.0           406.0   \n",
      "\n",
      "       population  households  median_income  median_house_value  \\\n",
      "12573       588.0       231.0         2.9737             72100.0   \n",
      "609        1479.0       668.0         3.5295            242200.0   \n",
      "3696       1990.0       423.0         3.7455            159600.0   \n",
      "8379        781.0       238.0         3.9500            164000.0   \n",
      "4845       1233.0       385.0         2.8295            132200.0   \n",
      "\n",
      "      ocean_proximity  cat  \n",
      "12573          INLAND  0.0  \n",
      "609          NEAR BAY  2.0  \n",
      "3696        <1H OCEAN  1.0  \n",
      "8379        <1H OCEAN  1.0  \n",
      "4845        <1H OCEAN  1.0  \n"
     ]
    }
   ],
   "source": [
    "class DataFrameSelector:\n",
    "    def __init__(self, attribute_names):\n",
    "        self.attribute_names = attribute_names\n",
    "    def fit(self, X, y=None):\n",
    "        return self\n",
    "    def transform(self, X, y=None):\n",
    "        return X[self.attribute_names].values\n",
    "\n",
    "rooms_ix, bedrooms_ix, households_ix = 3,4,6\n",
    "class CombinedAttributeAdder:\n",
    "    def __init__(self):\n",
    "        return\n",
    "    def fit(self, X, y=None):\n",
    "        return self\n",
    "    def transform(self, X, y=None):\n",
    "        rooms_per_house = X[:, rooms_ix]/X[:, households_ix]\n",
    "        bedrooms_per_room = X[:, bedrooms_ix]/X[:, rooms_ix]\n",
    "        X = np.delete(X,obj=[rooms_ix, bedrooms_ix],axis=1)\n",
    "        return np.c_[X,rooms_per_house,bedrooms_per_room]\n",
    "\n",
    "'''\n",
    "Can only do 1 column at a time\n",
    "'''\n",
    "class Factorizer(TransformerMixin):\n",
    "    def __init__(self):\n",
    "        self.code = None\n",
    "    def fit(self, X, y=None):\n",
    "        self.code = pd.factorize(X.reshape(X.size))[1]\n",
    "        print(self.code)\n",
    "        return self\n",
    "    def transform(self, X, y=None):\n",
    "        toReturn = np.copy(X)\n",
    "        for i in range(len(self.code)):\n",
    "            toReturn[toReturn==self.code[i]] = i\n",
    "        toReturn = toReturn.astype(np.int)\n",
    "        return toReturn\n",
    "    \n",
    "        \n",
    "train_num = x_train.drop(\"ocean_proximity\",axis=1)\n",
    "num_attr = list(train_num)\n",
    "cat_attr = [\"ocean_proximity\"]\n",
    "\n",
    "num_pipeline = Pipeline([(\"selector\", DataFrameSelector(num_attr)),\n",
    "                         (\"imputer\",Imputer(strategy=\"median\")),\n",
    "                         (\"attr_adder\", CombinedAttributeAdder()),\n",
    "                         (\"std_scaler\",StandardScaler())])\n",
    "cat_pipeline = Pipeline([(\"selector\", DataFrameSelector(cat_attr)),\n",
    "                         (\"factorizer\", Factorizer())])\n",
    "full_pipeline = FeatureUnion([(\"num_pipeline\", num_pipeline),\n",
    "                              (\"cat_pipeline\", cat_pipeline)])\n",
    "\n",
    "\n",
    "x_train_prep = full_pipeline.fit_transform(x_train)\n",
    "print(x_train_prep[:5])\n",
    "\n",
    "\n",
    "# attr_adder = CombinedAttributeAdder()\n",
    "# train_extra_attr = attr_adder.transform(train.values)\n",
    "\n",
    "# print(train_extra_attr[:5])\n",
    "print(train.head())\n",
    "\n",
    "    \n",
    "        "
   ]
  },
  {
   "cell_type": "code",
   "execution_count": 64,
   "metadata": {},
   "outputs": [
    {
     "data": {
      "text/plain": [
       "['longitude',\n",
       " 'latitude',\n",
       " 'housing_median_age',\n",
       " 'total_rooms',\n",
       " 'total_bedrooms',\n",
       " 'population',\n",
       " 'households',\n",
       " 'median_income']"
      ]
     },
     "execution_count": 64,
     "metadata": {},
     "output_type": "execute_result"
    }
   ],
   "source": [
    "list(train_num)"
   ]
  },
  {
   "cell_type": "code",
   "execution_count": 65,
   "metadata": {},
   "outputs": [
    {
     "data": {
      "text/plain": [
       "LinearRegression(copy_X=True, fit_intercept=True, n_jobs=1, normalize=False)"
      ]
     },
     "execution_count": 65,
     "metadata": {},
     "output_type": "execute_result"
    }
   ],
   "source": [
    "# training\n",
    "from sklearn.linear_model import LinearRegression\n",
    "\n",
    "lin_reg = LinearRegression()\n",
    "lin_reg.fit(x_train_prep, y_train)"
   ]
  },
  {
   "cell_type": "code",
   "execution_count": 66,
   "metadata": {},
   "outputs": [
    {
     "name": "stdout",
     "output_type": "stream",
     "text": [
      "[ 266822.66163671  235245.46044333  200863.00049696  130713.05995614\n",
      "  186320.28806148]\n",
      "8743     346200.0\n",
      "11500    182500.0\n",
      "10939    163900.0\n",
      "7362     146300.0\n",
      "5013     181300.0\n",
      "Name: median_house_value, dtype: float64\n"
     ]
    }
   ],
   "source": [
    "# test on some instances\n",
    "some_data = x_test[:5]\n",
    "some_data_prep = full_pipeline.transform(some_data)\n",
    "output = lin_reg.predict(some_data_prep)\n",
    "print(output)\n",
    "print(y_test[:5])"
   ]
  },
  {
   "cell_type": "code",
   "execution_count": 70,
   "metadata": {},
   "outputs": [
    {
     "data": {
      "text/plain": [
       "8743     0.770718\n",
       "11500    1.289016\n",
       "10939    1.225522\n",
       "7362     0.893459\n",
       "5013     1.027691\n",
       "Name: median_house_value, dtype: float64"
      ]
     },
     "execution_count": 70,
     "metadata": {},
     "output_type": "execute_result"
    }
   ],
   "source": [
    "output/y_test[:5]"
   ]
  },
  {
   "cell_type": "code",
   "execution_count": 68,
   "metadata": {},
   "outputs": [
    {
     "name": "stdout",
     "output_type": "stream",
     "text": [
      "Index(['INLAND', 'NEAR BAY', '<1H OCEAN', 'NEAR OCEAN', 'ISLAND'], dtype='object')\n"
     ]
    },
    {
     "name": "stderr",
     "output_type": "stream",
     "text": [
      "C:\\Anaconda3\\lib\\site-packages\\ipykernel_launcher.py:28: FutureWarning: reshape is deprecated and will raise in a subsequent release. Please use .values.reshape(...) instead\n"
     ]
    }
   ],
   "source": []
  },
  {
   "cell_type": "code",
   "execution_count": 69,
   "metadata": {},
   "outputs": [
    {
     "data": {
      "text/plain": [
       "array([2, 2, 2, 2, 2])"
      ]
     },
     "execution_count": 69,
     "metadata": {},
     "output_type": "execute_result"
    }
   ],
   "source": []
  }
 ],
 "metadata": {
  "kernelspec": {
   "display_name": "Python 3",
   "language": "python",
   "name": "python3"
  },
  "language_info": {
   "codemirror_mode": {
    "name": "ipython",
    "version": 3
   },
   "file_extension": ".py",
   "mimetype": "text/x-python",
   "name": "python",
   "nbconvert_exporter": "python",
   "pygments_lexer": "ipython3",
   "version": "3.6.3"
  }
 },
 "nbformat": 4,
 "nbformat_minor": 2
}
