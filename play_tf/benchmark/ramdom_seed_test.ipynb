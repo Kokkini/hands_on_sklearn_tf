{
 "cells": [
  {
   "cell_type": "code",
   "execution_count": null,
   "metadata": {
    "collapsed": true
   },
   "outputs": [],
   "source": [
    "'''\n",
    "learn how to create repeatable result\n",
    "'''"
   ]
  },
  {
   "cell_type": "code",
   "execution_count": 2,
   "metadata": {
    "collapsed": true
   },
   "outputs": [],
   "source": [
    "import numpy as np\n",
    "import tensorflow as tf"
   ]
  },
  {
   "cell_type": "code",
   "execution_count": 49,
   "metadata": {
    "scrolled": true
   },
   "outputs": [
    {
     "name": "stdout",
     "output_type": "stream",
     "text": [
      "[ 0.32064009]\n",
      "[ 0.012326]\n",
      "[ 0.46133769]\n"
     ]
    }
   ],
   "source": [
    "# tf seed\n",
    "tf.reset_default_graph() \n",
    "tf.set_random_seed(0)\n",
    "# all we need is the above 2 lines in that order\n",
    "\n",
    "a = tf.random_uniform([1])\n",
    "with tf.Session() as sess:\n",
    "  print(sess.run(a))  # generates 'A1'\n",
    "  print(sess.run(a))  # generates 'A2'\n",
    "  print(sess.run(b))"
   ]
  },
  {
   "cell_type": "code",
   "execution_count": 46,
   "metadata": {},
   "outputs": [
    {
     "name": "stdout",
     "output_type": "stream",
     "text": [
      "[2 8 4 9 1 6 7 3 0 5]\n",
      "[3 5 1 2 9 8 0 6 7 4]\n"
     ]
    }
   ],
   "source": [
    "# np seed\n",
    "np.random.seed(0)\n",
    "# all we need is the above line\n",
    "print(np.random.permutation(10))\n",
    "print(np.random.permutation(10))"
   ]
  },
  {
   "cell_type": "code",
   "execution_count": 52,
   "metadata": {},
   "outputs": [
    {
     "name": "stdout",
     "output_type": "stream",
     "text": [
      "[[ 1.43046129 -0.22076154]\n",
      " [ 0.30155486  0.91023111]]\n"
     ]
    }
   ],
   "source": [
    "a = tf.random_normal([2,2])\n",
    "b = 1-a\n",
    "with tf.Session() as sess1:\n",
    "    print(sess1.run(b))"
   ]
  }
 ],
 "metadata": {
  "kernelspec": {
   "display_name": "Python 3",
   "language": "python",
   "name": "python3"
  },
  "language_info": {
   "codemirror_mode": {
    "name": "ipython",
    "version": 3
   },
   "file_extension": ".py",
   "mimetype": "text/x-python",
   "name": "python",
   "nbconvert_exporter": "python",
   "pygments_lexer": "ipython3",
   "version": "3.6.3"
  }
 },
 "nbformat": 4,
 "nbformat_minor": 2
}
