{
 "cells": [
  {
   "cell_type": "code",
   "execution_count": 5,
   "metadata": {
    "collapsed": true
   },
   "outputs": [],
   "source": [
    "import tensorflow as tf\n",
    "import numpy as np\n",
    "from sklearn.datasets import fetch_california_housing\n",
    "from sklearn.preprocessing import StandardScaler\n",
    "from datetime import datetime"
   ]
  },
  {
   "cell_type": "code",
   "execution_count": 13,
   "metadata": {
    "collapsed": true
   },
   "outputs": [],
   "source": [
    "x = tf.Variable(3, name=\"x\")\n",
    "y = tf.Variable(4, name=\"y\")\n",
    "f = x*x*y + y + 2\n",
    "housing = fetch_california_housing()\n",
    "m,n = housing.data.shape\n",
    "housing_plus_bias = np.c_[np.ones([m,1]),housing.data]\n",
    "X_data = tf.constant(housing_plus_bias)\n",
    "y_data = tf.constant(housing.target.reshape([-1,1]))"
   ]
  },
  {
   "cell_type": "code",
   "execution_count": 3,
   "metadata": {},
   "outputs": [
    {
     "name": "stdout",
     "output_type": "stream",
     "text": [
      "42\n"
     ]
    }
   ],
   "source": [
    "sess = tf.Session()\n",
    "sess.run(x.initializer) #in the future, we can use global initializer\n",
    "sess.run(y.initializer)\n",
    "result = sess.run(f)\n",
    "print(result)\n",
    "sess.close()"
   ]
  },
  {
   "cell_type": "code",
   "execution_count": 4,
   "metadata": {},
   "outputs": [
    {
     "name": "stdout",
     "output_type": "stream",
     "text": [
      "42\n"
     ]
    }
   ],
   "source": [
    "with tf.Session() as sess:\n",
    "    x.initializer.run()\n",
    "    y.initializer.run()\n",
    "    result = f.eval()\n",
    "    print(result)\n",
    "# the session is automatically closed at the end of the with block"
   ]
  },
  {
   "cell_type": "code",
   "execution_count": 5,
   "metadata": {},
   "outputs": [
    {
     "name": "stdout",
     "output_type": "stream",
     "text": [
      "42\n"
     ]
    }
   ],
   "source": [
    "init = tf.global_variables_initializer()\n",
    "with tf.Session() as sess:\n",
    "    init.run()\n",
    "    result = f.eval()\n",
    "    print(result)"
   ]
  },
  {
   "cell_type": "code",
   "execution_count": 6,
   "metadata": {},
   "outputs": [
    {
     "name": "stdout",
     "output_type": "stream",
     "text": [
      "42\n"
     ]
    }
   ],
   "source": [
    "# if you don't want the with block, you can use interactive session\n",
    "# it sets itself as the default session, so you can do init.run() instead of sess.run(init)\n",
    "# but you have to close it at the end\n",
    "sess = tf.InteractiveSession()\n",
    "init.run()\n",
    "result = f.eval()\n",
    "print(result)\n"
   ]
  },
  {
   "cell_type": "code",
   "execution_count": 7,
   "metadata": {},
   "outputs": [
    {
     "data": {
      "text/plain": [
       "True"
      ]
     },
     "execution_count": 7,
     "metadata": {},
     "output_type": "execute_result"
    }
   ],
   "source": [
    "# any node you create is automatically added to the default graph\n",
    "x1 = tf.Variable(1)\n",
    "x1.graph is tf.get_default_graph()"
   ]
  },
  {
   "cell_type": "code",
   "execution_count": 8,
   "metadata": {},
   "outputs": [
    {
     "name": "stdout",
     "output_type": "stream",
     "text": [
      "True\n",
      "False\n"
     ]
    }
   ],
   "source": [
    "graph = tf.Graph()\n",
    "with graph.as_default():\n",
    "    x2 = tf.Variable(2)\n",
    "    \n",
    "print(x2.graph is graph)\n",
    "print(x2.graph is tf.get_default_graph())"
   ]
  },
  {
   "cell_type": "code",
   "execution_count": 9,
   "metadata": {
    "collapsed": true
   },
   "outputs": [],
   "source": [
    "tf.reset_default_graph()"
   ]
  },
  {
   "cell_type": "code",
   "execution_count": 10,
   "metadata": {},
   "outputs": [
    {
     "data": {
      "text/plain": [
       "[<tf.Operation 'Variable/initial_value' type=Const>,\n",
       " <tf.Operation 'Variable' type=VariableV2>,\n",
       " <tf.Operation 'Variable/Assign' type=Assign>,\n",
       " <tf.Operation 'Variable/read' type=Identity>]"
      ]
     },
     "execution_count": 10,
     "metadata": {},
     "output_type": "execute_result"
    }
   ],
   "source": [
    "z = tf.Variable(1)\n",
    "tf.get_default_graph().get_operations()"
   ]
  },
  {
   "cell_type": "code",
   "execution_count": 11,
   "metadata": {},
   "outputs": [
    {
     "data": {
      "text/plain": [
       "[]"
      ]
     },
     "execution_count": 11,
     "metadata": {},
     "output_type": "execute_result"
    }
   ],
   "source": [
    "tf.reset_default_graph()\n",
    "tf.get_default_graph().get_operations()"
   ]
  },
  {
   "cell_type": "code",
   "execution_count": 13,
   "metadata": {
    "collapsed": true
   },
   "outputs": [],
   "source": [
    "housing = fetch_california_housing()\n",
    "m,n = housing.data.shape\n",
    "housing_plus_bias = np.c_[np.ones([m,1]),housing.data]\n",
    "X = tf.constant(housing_plus_bias)\n",
    "y = tf.constant(housing.target.reshape([-1,1]))\n",
    "XT = tf.transpose(X)\n",
    "theta = tf.matmul(tf.matmul(tf.matrix_inverse(tf.matmul(XT,X)),XT),y)\n",
    "with tf.Session() as sess:\n",
    "    theta_value = theta.eval()"
   ]
  },
  {
   "cell_type": "code",
   "execution_count": 14,
   "metadata": {},
   "outputs": [
    {
     "data": {
      "text/plain": [
       "TensorShape([Dimension(9), Dimension(1)])"
      ]
     },
     "execution_count": 14,
     "metadata": {},
     "output_type": "execute_result"
    }
   ],
   "source": [
    "theta.shape"
   ]
  },
  {
   "cell_type": "code",
   "execution_count": 7,
   "metadata": {
    "collapsed": true
   },
   "outputs": [],
   "source": [
    "# scale data for gradient descent\n",
    "scaler = StandardScaler()\n",
    "X_scaled = scaler.fit_transform(housing.data)\n",
    "X_scaled_plus_bias = np.c_[np.ones([m,1]), X_scaled]"
   ]
  },
  {
   "cell_type": "code",
   "execution_count": 19,
   "metadata": {},
   "outputs": [
    {
     "name": "stdout",
     "output_type": "stream",
     "text": [
      "Epoch 0 MSE = 2.86821\n",
      "Epoch 50 MSE = 0.887818\n",
      "Epoch 100 MSE = 0.609831\n",
      "Epoch 150 MSE = 0.561184\n",
      "Epoch 200 MSE = 0.549296\n",
      "Epoch 250 MSE = 0.544395\n",
      "Epoch 300 MSE = 0.541257\n",
      "Epoch 350 MSE = 0.538806\n",
      "Epoch 400 MSE = 0.536765\n",
      "Epoch 450 MSE = 0.535031\n",
      "Epoch 500 MSE = 0.533549\n",
      "Epoch 550 MSE = 0.53228\n",
      "Epoch 600 MSE = 0.531192\n",
      "Epoch 650 MSE = 0.530258\n",
      "Epoch 700 MSE = 0.529456\n",
      "Epoch 750 MSE = 0.528767\n",
      "Epoch 800 MSE = 0.528174\n",
      "Epoch 850 MSE = 0.527664\n",
      "Epoch 900 MSE = 0.527225\n",
      "Epoch 950 MSE = 0.526846\n"
     ]
    }
   ],
   "source": [
    "# manual gradient descent\n",
    "tf.reset_default_graph()\n",
    "n_epochs = 1000\n",
    "learning_rate = 0.01\n",
    "X = tf.constant(X_scaled_plus_bias, dtype=tf.float32)\n",
    "y = tf.constant(housing.target.reshape([-1,1]), dtype=tf.float32)\n",
    "theta = tf.Variable(tf.random_uniform([n+1,1],-1.0,1.0))\n",
    "y_pred = tf.matmul(X, theta)\n",
    "error = y_pred - y\n",
    "mse = tf.reduce_mean(tf.square(error))\n",
    "gradients = 2/m * tf.matmul(tf.transpose(X), error)\n",
    "training_op = tf.assign(theta, theta - learning_rate*gradients)\n",
    "init = tf.global_variables_initializer()\n",
    "\n",
    "with tf.Session() as sess:\n",
    "    sess.run(init)\n",
    "    \n",
    "    for epoch in range(n_epochs):\n",
    "        if epoch % 50 == 0:\n",
    "            print(\"Epoch\", epoch, \"MSE =\", mse.eval())\n",
    "        sess.run(training_op)\n",
    "    best_theta = theta.eval()"
   ]
  },
  {
   "cell_type": "code",
   "execution_count": 20,
   "metadata": {},
   "outputs": [
    {
     "name": "stdout",
     "output_type": "stream",
     "text": [
      "Epoch 0 MSE = 8.63968\n",
      "Epoch 50 MSE = 1.3958\n",
      "Epoch 100 MSE = 0.741987\n",
      "Epoch 150 MSE = 0.646694\n",
      "Epoch 200 MSE = 0.622188\n",
      "Epoch 250 MSE = 0.608608\n",
      "Epoch 300 MSE = 0.597865\n",
      "Epoch 350 MSE = 0.588689\n",
      "Epoch 400 MSE = 0.580746\n",
      "Epoch 450 MSE = 0.573849\n",
      "Epoch 500 MSE = 0.567852\n",
      "Epoch 550 MSE = 0.56263\n",
      "Epoch 600 MSE = 0.558079\n",
      "Epoch 650 MSE = 0.554107\n",
      "Epoch 700 MSE = 0.550637\n",
      "Epoch 750 MSE = 0.5476\n",
      "Epoch 800 MSE = 0.544941\n",
      "Epoch 850 MSE = 0.542608\n",
      "Epoch 900 MSE = 0.540559\n",
      "Epoch 950 MSE = 0.538757\n"
     ]
    }
   ],
   "source": [
    "# auto diff gradient descent\n",
    "tf.reset_default_graph()\n",
    "n_epochs = 1000\n",
    "learning_rate = 0.01\n",
    "X = tf.constant(X_scaled_plus_bias, dtype=tf.float32)\n",
    "y = tf.constant(housing.target.reshape([-1,1]), dtype=tf.float32)\n",
    "theta = tf.Variable(tf.random_uniform([n+1,1],-1.0,1.0))\n",
    "y_pred = tf.matmul(X, theta)\n",
    "error = y_pred - y\n",
    "mse = tf.reduce_mean(tf.square(error))\n",
    "gradients = tf.gradients(mse, [theta])[0]\n",
    "training_op = tf.assign(theta, theta - learning_rate*gradients)\n",
    "init = tf.global_variables_initializer()\n",
    "\n",
    "with tf.Session() as sess:\n",
    "    sess.run(init)\n",
    "    \n",
    "    for epoch in range(n_epochs):\n",
    "        if epoch % 50 == 0:\n",
    "            print(\"Epoch\", epoch, \"MSE =\", mse.eval())\n",
    "        sess.run(training_op)\n",
    "    best_theta = theta.eval()"
   ]
  },
  {
   "cell_type": "code",
   "execution_count": 23,
   "metadata": {},
   "outputs": [
    {
     "name": "stdout",
     "output_type": "stream",
     "text": [
      "Epoch 0 MSE = 8.81921\n",
      "Epoch 50 MSE = 1.57893\n",
      "Epoch 100 MSE = 0.957332\n",
      "Epoch 150 MSE = 0.834873\n",
      "Epoch 200 MSE = 0.77963\n",
      "Epoch 250 MSE = 0.739735\n",
      "Epoch 300 MSE = 0.707001\n",
      "Epoch 350 MSE = 0.679416\n",
      "Epoch 400 MSE = 0.656033\n",
      "Epoch 450 MSE = 0.636184\n",
      "Epoch 500 MSE = 0.619328\n",
      "Epoch 550 MSE = 0.605013\n",
      "Epoch 600 MSE = 0.592855\n",
      "Epoch 650 MSE = 0.582529\n",
      "Epoch 700 MSE = 0.57376\n",
      "Epoch 750 MSE = 0.566311\n",
      "Epoch 800 MSE = 0.559985\n",
      "Epoch 850 MSE = 0.554612\n",
      "Epoch 900 MSE = 0.550048\n",
      "Epoch 950 MSE = 0.546172\n"
     ]
    }
   ],
   "source": [
    "# optimizer gradient descent\n",
    "tf.reset_default_graph()\n",
    "n_epochs = 1000\n",
    "learning_rate = 0.01\n",
    "X = tf.constant(X_scaled_plus_bias, dtype=tf.float32)\n",
    "y = tf.constant(housing.target.reshape([-1,1]), dtype=tf.float32)\n",
    "theta = tf.Variable(tf.random_uniform([n+1,1],-1.0,1.0))\n",
    "y_pred = tf.matmul(X, theta)\n",
    "error = y_pred - y\n",
    "mse = tf.reduce_mean(tf.square(error))\n",
    "optimizer = tf.train.GradientDescentOptimizer(learning_rate=learning_rate)\n",
    "training_op = optimizer.minimize(mse)\n",
    "init = tf.global_variables_initializer()\n",
    "\n",
    "with tf.Session() as sess:\n",
    "    sess.run(init)\n",
    "    \n",
    "    for epoch in range(n_epochs):\n",
    "        if epoch % 50 == 0:\n",
    "            print(\"Epoch\", epoch, \"MSE =\", mse.eval())\n",
    "        sess.run(training_op)\n",
    "    best_theta = theta.eval()"
   ]
  },
  {
   "cell_type": "code",
   "execution_count": 23,
   "metadata": {},
   "outputs": [
    {
     "name": "stdout",
     "output_type": "stream",
     "text": [
      "Epoch 0 MSE = 2.29027\n",
      "Epoch 50 MSE = 0.406323\n",
      "Epoch 100 MSE = 0.390892\n",
      "Epoch 150 MSE = 0.387513\n",
      "Epoch 200 MSE = 0.386357\n",
      "Epoch 250 MSE = 0.385931\n",
      "Epoch 300 MSE = 0.385773\n",
      "Epoch 350 MSE = 0.385715\n",
      "Epoch 400 MSE = 0.385693\n",
      "Epoch 450 MSE = 0.385685\n",
      "Epoch 500 MSE = 0.385682\n",
      "Epoch 550 MSE = 0.385681\n",
      "Epoch 600 MSE = 0.38568\n",
      "Epoch 650 MSE = 0.38568\n",
      "Epoch 700 MSE = 0.38568\n",
      "Epoch 750 MSE = 0.38568\n",
      "Epoch 800 MSE = 0.38568\n",
      "Epoch 850 MSE = 0.38568\n",
      "Epoch 900 MSE = 0.38568\n",
      "Epoch 950 MSE = 0.38568\n"
     ]
    }
   ],
   "source": [
    "# minibatch gradient descent\n",
    "tf.reset_default_graph()\n",
    "y_reshape = housing.target.reshape([-1,1])\n",
    "n_epochs = 1000\n",
    "batch_size = 1000\n",
    "n_batches = int(np.ceil(m/batch_size))\n",
    "learning_rate = 0.01\n",
    "X = tf.placeholder(tf.float32, shape=(None,n+1))\n",
    "y = tf.placeholder(tf.float32, shape=(None,1))\n",
    "theta = tf.Variable(tf.random_uniform([n+1,1],-1.0,1.0))\n",
    "y_pred = tf.matmul(X, theta)\n",
    "error = y_pred - y\n",
    "mse = tf.reduce_mean(tf.square(error))\n",
    "optimizer = tf.train.GradientDescentOptimizer(learning_rate=learning_rate)\n",
    "training_op = optimizer.minimize(mse)\n",
    "init = tf.global_variables_initializer()\n",
    "def random_sampling(X,y,batch_size):\n",
    "    random_indice = np.random.permutation(m)[:batch_size]\n",
    "    return [X[random_indice], y[random_indice]]\n",
    "def fetch_batch(X,y,batch_index, batch_size):\n",
    "    from_i = batch_index*batch_size\n",
    "    to_i = np.maximum((batch_index+1)*batch_size, X.shape[0])\n",
    "    return [X[from_i:to_i], y[from_i:to_i]]\n",
    "with tf.Session() as sess:\n",
    "    sess.run(init)\n",
    "    for epoch in range(n_epochs):\n",
    "        for batch_index in range(n_batches):\n",
    "            X_batch, y_batch = fetch_batch(X_scaled_plus_bias, y_reshape, batch_index, batch_size)\n",
    "            mse_, foo = sess.run([mse,training_op],feed_dict={X:X_batch,y:y_batch})\n",
    "        if epoch % 50 == 0:\n",
    "            print(\"Epoch\", epoch, \"MSE =\", mse_)\n",
    "    best_theta = theta.eval()"
   ]
  },
  {
   "cell_type": "code",
   "execution_count": 21,
   "metadata": {
    "collapsed": true
   },
   "outputs": [],
   "source": [
    "def random_sampling(X,y,batch_size):\n",
    "    random_indice = np.random.permutation(m)[:batch_size]\n",
    "    return [X[random_indice], y[random_indice]]\n",
    "def fetch_batch(X,y,batch_index, batch_size):\n",
    "    from_i = batch_index*batch_size\n",
    "    to_i = np.maximum((batch_index+1)*batch_size, X.shape[0])\n",
    "    return [X[from_i:to_i], y[from_i:to_i]]"
   ]
  },
  {
   "cell_type": "code",
   "execution_count": 34,
   "metadata": {},
   "outputs": [
    {
     "name": "stdout",
     "output_type": "stream",
     "text": [
      "20640 8\n"
     ]
    }
   ],
   "source": [
    "print(m,n)"
   ]
  },
  {
   "cell_type": "code",
   "execution_count": 32,
   "metadata": {},
   "outputs": [
    {
     "name": "stdout",
     "output_type": "stream",
     "text": [
      "0\n",
      "100\n",
      "200\n",
      "300\n",
      "400\n"
     ]
    }
   ],
   "source": [
    "# visualize\n",
    "now = datetime.utcnow().strftime(\"%y%m%d%H%M%S\")\n",
    "root_logdir = \"logs\"\n",
    "logdir = \"{}/run-{}\".format(root_logdir, now)\n",
    "tf.reset_default_graph()\n",
    "y_reshape = housing.target.reshape([-1,1])\n",
    "n_epochs = 500\n",
    "batch_size = 1000\n",
    "n_batches = int(np.ceil(m/batch_size))\n",
    "learning_rate = 0.01\n",
    "X = tf.placeholder(tf.float32, shape=(None,n+1))\n",
    "y = tf.placeholder(tf.float32, shape=(None,1))\n",
    "theta = tf.Variable(tf.random_uniform([n+1,1],-1.0,1.0))\n",
    "y_pred = tf.matmul(X, theta)\n",
    "error = y_pred - y\n",
    "mse = tf.reduce_mean(tf.square(error))\n",
    "optimizer = tf.train.GradientDescentOptimizer(learning_rate=learning_rate)\n",
    "training_op = optimizer.minimize(mse)\n",
    "init = tf.global_variables_initializer()\n",
    "\n",
    "mse_summary = tf.summary.scalar(\"MSE\",mse)\n",
    "file_writer = tf.summary.FileWriter(logdir, tf.get_default_graph())\n",
    "def random_sampling(X,y,batch_size):\n",
    "    random_indice = np.random.permutation(m)[:batch_size]\n",
    "    return [X[random_indice], y[random_indice]]\n",
    "def fetch_batch(X,y,batch_index, batch_size):\n",
    "    from_i = batch_index*batch_size\n",
    "    to_i = np.maximum((batch_index+1)*batch_size, X.shape[0])\n",
    "    return [X[from_i:to_i], y[from_i:to_i]]\n",
    "with tf.Session() as sess:\n",
    "    sess.run(init)\n",
    "    for epoch in range(n_epochs):\n",
    "        if(epoch%100==0): print(epoch)\n",
    "        for batch_index in range(n_batches):\n",
    "            X_batch, y_batch = fetch_batch(X_scaled_plus_bias, y_reshape, batch_index, batch_size)\n",
    "            sess.run(training_op,feed_dict={X:X_batch,y:y_batch})\n",
    "            if batch_index % 10 == 0:\n",
    "                summary_str = sess.run(mse_summary, feed_dict={X:X_batch, y:y_batch})\n",
    "                step = epoch * n_batches + batch_index\n",
    "                file_writer.add_summary(summary_str, step)\n",
    "    best_theta = theta.eval()\n",
    "    file_writer.close()"
   ]
  },
  {
   "cell_type": "code",
   "execution_count": 39,
   "metadata": {},
   "outputs": [
    {
     "name": "stdout",
     "output_type": "stream",
     "text": [
      "20184804/14/18184807\n",
      "180414184807\n"
     ]
    }
   ],
   "source": [
    "print(datetime.utcnow().strftime(\"%Y%M%D%H%M%S\"))\n",
    "print(datetime.utcnow().strftime(\"%y%m%d%H%M%S\"))"
   ]
  }
 ],
 "metadata": {
  "kernelspec": {
   "display_name": "Python 3",
   "language": "python",
   "name": "python3"
  },
  "language_info": {
   "codemirror_mode": {
    "name": "ipython",
    "version": 3
   },
   "file_extension": ".py",
   "mimetype": "text/x-python",
   "name": "python",
   "nbconvert_exporter": "python",
   "pygments_lexer": "ipython3",
   "version": "3.6.3"
  }
 },
 "nbformat": 4,
 "nbformat_minor": 2
}
