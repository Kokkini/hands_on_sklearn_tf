{
 "cells": [
  {
   "cell_type": "code",
   "execution_count": 4,
   "metadata": {
    "collapsed": true
   },
   "outputs": [],
   "source": [
    "import tensorflow as tf\n",
    "from sklearn.datasets import fetch_mldata\n",
    "from sklearn.model_selection import train_test_split\n",
    "from tensorflow.contrib.layers import fully_connected\n",
    "import numpy as np\n",
    "from datetime import datetime\n",
    "from time import time"
   ]
  },
  {
   "cell_type": "code",
   "execution_count": 2,
   "metadata": {},
   "outputs": [
    {
     "name": "stderr",
     "output_type": "stream",
     "text": [
      "C:\\Anaconda3\\lib\\site-packages\\sklearn\\model_selection\\_split.py:2026: FutureWarning: From version 0.21, test_size will always complement train_size unless both are specified.\n",
      "  FutureWarning)\n"
     ]
    },
    {
     "name": "stdout",
     "output_type": "stream",
     "text": [
      "(60000, 784) (10000, 784) (60000,) (10000,)\n",
      "[[ 0.  0.  0. ...,  0.  0.  0.]\n",
      " [ 0.  0.  0. ...,  0.  0.  0.]\n",
      " [ 0.  0.  0. ...,  0.  0.  0.]\n",
      " [ 0.  0.  0. ...,  0.  0.  0.]\n",
      " [ 0.  0.  0. ...,  0.  0.  0.]]\n"
     ]
    }
   ],
   "source": [
    "mnist = fetch_mldata(\"MNIST original\")\n",
    "train_size = 60000\n",
    "X_train, X_test, y_train, y_test = train_test_split(mnist.data, mnist.target.astype(int), train_size=train_size,shuffle=True)\n",
    "X_train, X_test = X_train/256, X_test/256\n",
    "m,n = X_train.shape\n",
    "print(X_train.shape, X_test.shape, y_train.shape, y_test.shape)\n",
    "print(X_train[:5])"
   ]
  },
  {
   "cell_type": "code",
   "execution_count": 11,
   "metadata": {
    "collapsed": true
   },
   "outputs": [],
   "source": [
    "def fetch_batch(X,y,batch_size):\n",
    "    random_indice = np.random.permutation(X.shape[0])[:batch_size]\n",
    "    return [X[random_indice], y[random_indice]]\n",
    "def get_learning_rate(lr_start, epoch):\n",
    "    return lr_start/10**int(epoch/150.0)"
   ]
  },
  {
   "cell_type": "code",
   "execution_count": 29,
   "metadata": {},
   "outputs": [],
   "source": [
    "# construction phase\n",
    "now = datetime.utcnow().strftime(\"%Y%m%d%H%M%S\")\n",
    "root_logdir = \"logs\"\n",
    "logdir = \"{}/L2-{}\".format(root_logdir, now)\n",
    "root_savedir = \"checkpoints\"\n",
    "savedir = \"{}/L2-{}\".format(root_savedir, now)\n",
    "\n",
    "tf.reset_default_graph()\n",
    "n_neurons = 50\n",
    "lr_start = 0.1\n",
    "\n",
    "X = tf.placeholder(tf.float32, shape=[None, 784])\n",
    "y = tf.placeholder(tf.int32, shape=[None]) # int32?\n",
    "is_training = tf.placeholder(tf.bool, shape=(), name=\"is_training\")\n",
    "bn_params = {'is_training': is_training,'decay': 0.99,'updates_collections': None}\n",
    "\n",
    "with tf.variable_scope(\"forward\"):\n",
    "    regularizer = tf.contrib.layers.l1_regularizer(scale=0.0001)\n",
    "    dense_1 = fully_connected(X, 300, scope=\"dense_1\",activation_fn=tf.nn.elu, weights_regularizer=regularizer)\n",
    "    dense_2 = fully_connected(dense_1, 100, scope=\"dense_2\", activation_fn=tf.nn.elu, weights_regularizer=regularizer)\n",
    "    # dense_3 = fully_connected(dense_2, n_neurons, scope=\"dense_3\")\n",
    "    output = fully_connected(dense_2, 10, activation_fn=None, scope=\"output\")\n",
    "with tf.variable_scope(\"loss\"):\n",
    "    xentropy = tf.nn.sparse_softmax_cross_entropy_with_logits(logits=output, labels=y,name=\"xentropy\")\n",
    "    reg_loss = tf.get_collection(tf.GraphKeys.REGULARIZATION_LOSSES)\n",
    "    loss = tf.add(tf.reduce_sum(reg_loss), tf.reduce_mean(xentropy), name=\"loss\")\n",
    "with tf.variable_scope(\"annealing\"):\n",
    "    lr = tf.placeholder(tf.float32, shape=(), name=\"learning_rate\")\n",
    "with tf.variable_scope(\"train\"):\n",
    "    optimizer = tf.train.GradientDescentOptimizer(lr)\n",
    "    training_op = optimizer.minimize(loss)\n",
    "with tf.variable_scope(\"eval\"):\n",
    "    pred = tf.argmax(output,axis=1,name=\"prediction\")\n",
    "with tf.variable_scope(\"save\"):\n",
    "    saver = tf.train.Saver()\n",
    "    train_loss_summary = tf.summary.scalar(\"test_loss\", loss)\n",
    "    test_loss_summary = tf.summary.scalar(\"train_loss\", loss)\n",
    "    filewriter = tf.summary.FileWriter(logdir,tf.get_default_graph())\n"
   ]
  },
  {
   "cell_type": "code",
   "execution_count": 30,
   "metadata": {
    "scrolled": true
   },
   "outputs": [
    {
     "name": "stdout",
     "output_type": "stream",
     "text": [
      "Epoch: 0\n",
      "test loss : 1.4916 test accuracy : 0.8800\n",
      "train loss: 1.5065 train accuracy: 0.8774\n",
      "elapsed time: 5 lr: 0.10000\n",
      "Epoch: 10\n",
      "test loss : 1.1646 test accuracy : 0.9274\n",
      "train loss: 1.1617 train accuracy: 0.9278\n",
      "elapsed time: 44 lr: 0.10000\n",
      "Epoch: 20\n",
      "test loss : 0.9878 test accuracy : 0.9414\n",
      "train loss: 0.9768 train accuracy: 0.9462\n",
      "elapsed time: 84 lr: 0.10000\n",
      "Epoch: 30\n",
      "test loss : 0.8440 test accuracy : 0.9506\n",
      "train loss: 0.8300 train accuracy: 0.9555\n",
      "elapsed time: 125 lr: 0.10000\n",
      "Epoch: 40\n",
      "test loss : 0.7280 test accuracy : 0.9539\n",
      "train loss: 0.7105 train accuracy: 0.9608\n",
      "elapsed time: 166 lr: 0.10000\n",
      "Epoch: 50\n",
      "test loss : 0.6289 test accuracy : 0.9575\n",
      "train loss: 0.6094 train accuracy: 0.9651\n",
      "elapsed time: 205 lr: 0.10000\n",
      "Epoch: 60\n",
      "test loss : 0.5461 test accuracy : 0.9582\n",
      "train loss: 0.5244 train accuracy: 0.9673\n",
      "elapsed time: 247 lr: 0.10000\n",
      "Epoch: 70\n",
      "test loss : 0.4747 test accuracy : 0.9621\n",
      "train loss: 0.4522 train accuracy: 0.9696\n",
      "elapsed time: 287 lr: 0.10000\n",
      "Epoch: 80\n",
      "test loss : 0.4180 test accuracy : 0.9627\n",
      "train loss: 0.3936 train accuracy: 0.9713\n",
      "elapsed time: 330 lr: 0.10000\n",
      "Epoch: 90\n",
      "test loss : 0.3712 test accuracy : 0.9645\n",
      "train loss: 0.3475 train accuracy: 0.9729\n",
      "elapsed time: 369 lr: 0.10000\n",
      "Epoch: 100\n",
      "test loss : 0.3339 test accuracy : 0.9653\n",
      "train loss: 0.3087 train accuracy: 0.9739\n",
      "elapsed time: 409 lr: 0.10000\n",
      "Epoch: 110\n",
      "test loss : 0.3048 test accuracy : 0.9667\n",
      "train loss: 0.2801 train accuracy: 0.9754\n",
      "elapsed time: 449 lr: 0.10000\n",
      "Epoch: 120\n",
      "test loss : 0.2842 test accuracy : 0.9673\n",
      "train loss: 0.2576 train accuracy: 0.9762\n",
      "elapsed time: 490 lr: 0.10000\n",
      "Epoch: 130\n",
      "test loss : 0.2726 test accuracy : 0.9667\n",
      "train loss: 0.2454 train accuracy: 0.9769\n",
      "elapsed time: 529 lr: 0.10000\n",
      "Epoch: 140\n",
      "test loss : 0.2561 test accuracy : 0.9678\n",
      "train loss: 0.2277 train accuracy: 0.9787\n",
      "elapsed time: 568 lr: 0.10000\n",
      "Epoch: 150\n",
      "test loss : 0.2427 test accuracy : 0.9699\n",
      "train loss: 0.2142 train accuracy: 0.9802\n",
      "elapsed time: 607 lr: 0.01000\n",
      "Epoch: 160\n",
      "test loss : 0.2411 test accuracy : 0.9706\n",
      "train loss: 0.2124 train accuracy: 0.9804\n",
      "elapsed time: 646 lr: 0.01000\n",
      "Epoch: 170\n",
      "test loss : 0.2390 test accuracy : 0.9708\n",
      "train loss: 0.2112 train accuracy: 0.9808\n",
      "elapsed time: 686 lr: 0.01000\n",
      "Epoch: 180\n",
      "test loss : 0.2384 test accuracy : 0.9705\n",
      "train loss: 0.2099 train accuracy: 0.9808\n",
      "elapsed time: 727 lr: 0.01000\n",
      "Epoch: 190\n",
      "test loss : 0.2373 test accuracy : 0.9701\n",
      "train loss: 0.2087 train accuracy: 0.9811\n",
      "elapsed time: 768 lr: 0.01000\n",
      "Test accuracy : 0.9708\n",
      "Train accuracy: 0.981166666667\n"
     ]
    }
   ],
   "source": [
    "# execution phase\n",
    "\n",
    "with tf.Session() as sess:\n",
    "    start_running = time()\n",
    "    sess.run(tf.global_variables_initializer())\n",
    "    n_epochs = 200\n",
    "    batch_size = 1000\n",
    "    n_batches = int(np.ceil(m/batch_size))\n",
    "    for epoch in range(n_epochs):\n",
    "        lr_ = get_learning_rate(lr_start,epoch)\n",
    "        for batch in range(n_batches):\n",
    "            X_batch, y_batch = fetch_batch(X_train, y_train, batch_size)\n",
    "            sess.run(training_op, feed_dict={X:X_batch,y:y_batch,lr:lr_,is_training:True})\n",
    "        if epoch%10==0:\n",
    "            test_loss_summary_, loss_test, pred_test = sess.run([test_loss_summary,loss, pred], feed_dict={X:X_test,y:y_test,is_training:False})\n",
    "            train_loss_summary_, loss_train, pred_train = sess.run([train_loss_summary,loss,pred], feed_dict={X:X_train,y:y_train,is_training:False})\n",
    "            filewriter.add_summary(test_loss_summary_,epoch)\n",
    "            filewriter.add_summary(train_loss_summary_,epoch)\n",
    "            print(\"Epoch:\",epoch)\n",
    "            print(\"test loss : %.4f\" % loss_test , \"test accuracy : %.4f\" % np.mean(pred_test==y_test))\n",
    "            print(\"train loss: %.4f\" % loss_train, \"train accuracy: %.4f\" % np.mean(pred_train==y_train))\n",
    "            print(\"elapsed time: %.0f\" % (time()-start_running), \"lr: %.5f\" % lr_)\n",
    "        if epoch%50==0:\n",
    "            saver.save(sess,savedir+\"/model.ckpt\")\n",
    "    saver.save(sess,savedir+\"/model_final.ckpt\")\n",
    "    train_accuracy = np.mean(sess.run(pred, feed_dict={X:X_train, y:y_train,is_training:False})==y_train)\n",
    "    test_accuracy = np.mean(sess.run(pred, feed_dict={X:X_test, y:y_test,is_training:False})==y_test)\n",
    "    print(\"Test accuracy :\", test_accuracy)\n",
    "    print(\"Train accuracy:\", train_accuracy)\n",
    "    "
   ]
  }
 ],
 "metadata": {
  "kernelspec": {
   "display_name": "Python 3",
   "language": "python",
   "name": "python3"
  },
  "language_info": {
   "codemirror_mode": {
    "name": "ipython",
    "version": 3
   },
   "file_extension": ".py",
   "mimetype": "text/x-python",
   "name": "python",
   "nbconvert_exporter": "python",
   "pygments_lexer": "ipython3",
   "version": "3.6.3"
  }
 },
 "nbformat": 4,
 "nbformat_minor": 2
}
